{
  "nbformat": 4,
  "nbformat_minor": 0,
  "metadata": {
    "colab": {
      "provenance": []
    },
    "kernelspec": {
      "name": "python3",
      "display_name": "Python 3"
    },
    "language_info": {
      "name": "python"
    }
  },
  "cells": [
    {
      "cell_type": "code",
      "execution_count": 38,
      "metadata": {
        "id": "zHQtXH5fFtir"
      },
      "outputs": [],
      "source": [
        "import pandas as pd\n",
        "import numpy as np"
      ]
    },
    {
      "cell_type": "code",
      "source": [
        "df = pd.read_csv('/content/bank-marketing.csv', sep=';')"
      ],
      "metadata": {
        "id": "KTZmqA2OcKdx"
      },
      "execution_count": 39,
      "outputs": []
    },
    {
      "cell_type": "code",
      "source": [
        "df.info()"
      ],
      "metadata": {
        "id": "8KK-D4VIcaki",
        "colab": {
          "base_uri": "https://localhost:8080/"
        },
        "outputId": "5f262ea1-c7c0-4f93-9a2a-18e375e7fdfb"
      },
      "execution_count": 40,
      "outputs": [
        {
          "output_type": "stream",
          "name": "stdout",
          "text": [
            "<class 'pandas.core.frame.DataFrame'>\n",
            "RangeIndex: 41188 entries, 0 to 41187\n",
            "Data columns (total 21 columns):\n",
            " #   Column          Non-Null Count  Dtype  \n",
            "---  ------          --------------  -----  \n",
            " 0   age             41188 non-null  int64  \n",
            " 1   job             41188 non-null  object \n",
            " 2   marital         41188 non-null  object \n",
            " 3   education       41188 non-null  object \n",
            " 4   default         41188 non-null  object \n",
            " 5   housing         41188 non-null  object \n",
            " 6   loan            41188 non-null  object \n",
            " 7   contact         41188 non-null  object \n",
            " 8   month           41188 non-null  object \n",
            " 9   day_of_week     41188 non-null  object \n",
            " 10  duration        41188 non-null  int64  \n",
            " 11  campaign        41188 non-null  int64  \n",
            " 12  pdays           41188 non-null  int64  \n",
            " 13  previous        41188 non-null  int64  \n",
            " 14  poutcome        41188 non-null  object \n",
            " 15  emp.var.rate    41188 non-null  float64\n",
            " 16  cons.price.idx  41188 non-null  float64\n",
            " 17  cons.conf.idx   41188 non-null  float64\n",
            " 18  euribor3m       41188 non-null  float64\n",
            " 19  nr.employed     41188 non-null  float64\n",
            " 20  y               41188 non-null  object \n",
            "dtypes: float64(5), int64(5), object(11)\n",
            "memory usage: 6.6+ MB\n"
          ]
        }
      ]
    },
    {
      "cell_type": "code",
      "source": [
        "feature_cols = ['age', 'default', 'cons.price.idx', 'cons.conf.idx']"
      ],
      "metadata": {
        "id": "y0OFLXoCdZDX"
      },
      "execution_count": 41,
      "outputs": []
    },
    {
      "cell_type": "code",
      "source": [
        "X = df[feature_cols]\n",
        "y = df['y']"
      ],
      "metadata": {
        "id": "T-2adxIVdpmx"
      },
      "execution_count": 42,
      "outputs": []
    },
    {
      "cell_type": "code",
      "source": [
        "X.head()"
      ],
      "metadata": {
        "colab": {
          "base_uri": "https://localhost:8080/",
          "height": 206
        },
        "id": "coWUFVIxd304",
        "outputId": "92b004f0-7c79-40ab-e310-25db45c16d27"
      },
      "execution_count": 43,
      "outputs": [
        {
          "output_type": "execute_result",
          "data": {
            "text/plain": [
              "   age  default  cons.price.idx  cons.conf.idx\n",
              "0   56       no          93.994          -36.4\n",
              "1   57  unknown          93.994          -36.4\n",
              "2   37       no          93.994          -36.4\n",
              "3   40       no          93.994          -36.4\n",
              "4   56       no          93.994          -36.4"
            ],
            "text/html": [
              "\n",
              "  <div id=\"df-24ce554a-64c1-483f-ae99-1bd04e0eed21\" class=\"colab-df-container\">\n",
              "    <div>\n",
              "<style scoped>\n",
              "    .dataframe tbody tr th:only-of-type {\n",
              "        vertical-align: middle;\n",
              "    }\n",
              "\n",
              "    .dataframe tbody tr th {\n",
              "        vertical-align: top;\n",
              "    }\n",
              "\n",
              "    .dataframe thead th {\n",
              "        text-align: right;\n",
              "    }\n",
              "</style>\n",
              "<table border=\"1\" class=\"dataframe\">\n",
              "  <thead>\n",
              "    <tr style=\"text-align: right;\">\n",
              "      <th></th>\n",
              "      <th>age</th>\n",
              "      <th>default</th>\n",
              "      <th>cons.price.idx</th>\n",
              "      <th>cons.conf.idx</th>\n",
              "    </tr>\n",
              "  </thead>\n",
              "  <tbody>\n",
              "    <tr>\n",
              "      <th>0</th>\n",
              "      <td>56</td>\n",
              "      <td>no</td>\n",
              "      <td>93.994</td>\n",
              "      <td>-36.4</td>\n",
              "    </tr>\n",
              "    <tr>\n",
              "      <th>1</th>\n",
              "      <td>57</td>\n",
              "      <td>unknown</td>\n",
              "      <td>93.994</td>\n",
              "      <td>-36.4</td>\n",
              "    </tr>\n",
              "    <tr>\n",
              "      <th>2</th>\n",
              "      <td>37</td>\n",
              "      <td>no</td>\n",
              "      <td>93.994</td>\n",
              "      <td>-36.4</td>\n",
              "    </tr>\n",
              "    <tr>\n",
              "      <th>3</th>\n",
              "      <td>40</td>\n",
              "      <td>no</td>\n",
              "      <td>93.994</td>\n",
              "      <td>-36.4</td>\n",
              "    </tr>\n",
              "    <tr>\n",
              "      <th>4</th>\n",
              "      <td>56</td>\n",
              "      <td>no</td>\n",
              "      <td>93.994</td>\n",
              "      <td>-36.4</td>\n",
              "    </tr>\n",
              "  </tbody>\n",
              "</table>\n",
              "</div>\n",
              "    <div class=\"colab-df-buttons\">\n",
              "\n",
              "  <div class=\"colab-df-container\">\n",
              "    <button class=\"colab-df-convert\" onclick=\"convertToInteractive('df-24ce554a-64c1-483f-ae99-1bd04e0eed21')\"\n",
              "            title=\"Convert this dataframe to an interactive table.\"\n",
              "            style=\"display:none;\">\n",
              "\n",
              "  <svg xmlns=\"http://www.w3.org/2000/svg\" height=\"24px\" viewBox=\"0 -960 960 960\">\n",
              "    <path d=\"M120-120v-720h720v720H120Zm60-500h600v-160H180v160Zm220 220h160v-160H400v160Zm0 220h160v-160H400v160ZM180-400h160v-160H180v160Zm440 0h160v-160H620v160ZM180-180h160v-160H180v160Zm440 0h160v-160H620v160Z\"/>\n",
              "  </svg>\n",
              "    </button>\n",
              "\n",
              "  <style>\n",
              "    .colab-df-container {\n",
              "      display:flex;\n",
              "      gap: 12px;\n",
              "    }\n",
              "\n",
              "    .colab-df-convert {\n",
              "      background-color: #E8F0FE;\n",
              "      border: none;\n",
              "      border-radius: 50%;\n",
              "      cursor: pointer;\n",
              "      display: none;\n",
              "      fill: #1967D2;\n",
              "      height: 32px;\n",
              "      padding: 0 0 0 0;\n",
              "      width: 32px;\n",
              "    }\n",
              "\n",
              "    .colab-df-convert:hover {\n",
              "      background-color: #E2EBFA;\n",
              "      box-shadow: 0px 1px 2px rgba(60, 64, 67, 0.3), 0px 1px 3px 1px rgba(60, 64, 67, 0.15);\n",
              "      fill: #174EA6;\n",
              "    }\n",
              "\n",
              "    .colab-df-buttons div {\n",
              "      margin-bottom: 4px;\n",
              "    }\n",
              "\n",
              "    [theme=dark] .colab-df-convert {\n",
              "      background-color: #3B4455;\n",
              "      fill: #D2E3FC;\n",
              "    }\n",
              "\n",
              "    [theme=dark] .colab-df-convert:hover {\n",
              "      background-color: #434B5C;\n",
              "      box-shadow: 0px 1px 3px 1px rgba(0, 0, 0, 0.15);\n",
              "      filter: drop-shadow(0px 1px 2px rgba(0, 0, 0, 0.3));\n",
              "      fill: #FFFFFF;\n",
              "    }\n",
              "  </style>\n",
              "\n",
              "    <script>\n",
              "      const buttonEl =\n",
              "        document.querySelector('#df-24ce554a-64c1-483f-ae99-1bd04e0eed21 button.colab-df-convert');\n",
              "      buttonEl.style.display =\n",
              "        google.colab.kernel.accessAllowed ? 'block' : 'none';\n",
              "\n",
              "      async function convertToInteractive(key) {\n",
              "        const element = document.querySelector('#df-24ce554a-64c1-483f-ae99-1bd04e0eed21');\n",
              "        const dataTable =\n",
              "          await google.colab.kernel.invokeFunction('convertToInteractive',\n",
              "                                                    [key], {});\n",
              "        if (!dataTable) return;\n",
              "\n",
              "        const docLinkHtml = 'Like what you see? Visit the ' +\n",
              "          '<a target=\"_blank\" href=https://colab.research.google.com/notebooks/data_table.ipynb>data table notebook</a>'\n",
              "          + ' to learn more about interactive tables.';\n",
              "        element.innerHTML = '';\n",
              "        dataTable['output_type'] = 'display_data';\n",
              "        await google.colab.output.renderOutput(dataTable, element);\n",
              "        const docLink = document.createElement('div');\n",
              "        docLink.innerHTML = docLinkHtml;\n",
              "        element.appendChild(docLink);\n",
              "      }\n",
              "    </script>\n",
              "  </div>\n",
              "\n",
              "\n",
              "<div id=\"df-6ad7f684-fb99-4b9f-9cf4-db0a91d580ff\">\n",
              "  <button class=\"colab-df-quickchart\" onclick=\"quickchart('df-6ad7f684-fb99-4b9f-9cf4-db0a91d580ff')\"\n",
              "            title=\"Suggest charts\"\n",
              "            style=\"display:none;\">\n",
              "\n",
              "<svg xmlns=\"http://www.w3.org/2000/svg\" height=\"24px\"viewBox=\"0 0 24 24\"\n",
              "     width=\"24px\">\n",
              "    <g>\n",
              "        <path d=\"M19 3H5c-1.1 0-2 .9-2 2v14c0 1.1.9 2 2 2h14c1.1 0 2-.9 2-2V5c0-1.1-.9-2-2-2zM9 17H7v-7h2v7zm4 0h-2V7h2v10zm4 0h-2v-4h2v4z\"/>\n",
              "    </g>\n",
              "</svg>\n",
              "  </button>\n",
              "\n",
              "<style>\n",
              "  .colab-df-quickchart {\n",
              "      --bg-color: #E8F0FE;\n",
              "      --fill-color: #1967D2;\n",
              "      --hover-bg-color: #E2EBFA;\n",
              "      --hover-fill-color: #174EA6;\n",
              "      --disabled-fill-color: #AAA;\n",
              "      --disabled-bg-color: #DDD;\n",
              "  }\n",
              "\n",
              "  [theme=dark] .colab-df-quickchart {\n",
              "      --bg-color: #3B4455;\n",
              "      --fill-color: #D2E3FC;\n",
              "      --hover-bg-color: #434B5C;\n",
              "      --hover-fill-color: #FFFFFF;\n",
              "      --disabled-bg-color: #3B4455;\n",
              "      --disabled-fill-color: #666;\n",
              "  }\n",
              "\n",
              "  .colab-df-quickchart {\n",
              "    background-color: var(--bg-color);\n",
              "    border: none;\n",
              "    border-radius: 50%;\n",
              "    cursor: pointer;\n",
              "    display: none;\n",
              "    fill: var(--fill-color);\n",
              "    height: 32px;\n",
              "    padding: 0;\n",
              "    width: 32px;\n",
              "  }\n",
              "\n",
              "  .colab-df-quickchart:hover {\n",
              "    background-color: var(--hover-bg-color);\n",
              "    box-shadow: 0 1px 2px rgba(60, 64, 67, 0.3), 0 1px 3px 1px rgba(60, 64, 67, 0.15);\n",
              "    fill: var(--button-hover-fill-color);\n",
              "  }\n",
              "\n",
              "  .colab-df-quickchart-complete:disabled,\n",
              "  .colab-df-quickchart-complete:disabled:hover {\n",
              "    background-color: var(--disabled-bg-color);\n",
              "    fill: var(--disabled-fill-color);\n",
              "    box-shadow: none;\n",
              "  }\n",
              "\n",
              "  .colab-df-spinner {\n",
              "    border: 2px solid var(--fill-color);\n",
              "    border-color: transparent;\n",
              "    border-bottom-color: var(--fill-color);\n",
              "    animation:\n",
              "      spin 1s steps(1) infinite;\n",
              "  }\n",
              "\n",
              "  @keyframes spin {\n",
              "    0% {\n",
              "      border-color: transparent;\n",
              "      border-bottom-color: var(--fill-color);\n",
              "      border-left-color: var(--fill-color);\n",
              "    }\n",
              "    20% {\n",
              "      border-color: transparent;\n",
              "      border-left-color: var(--fill-color);\n",
              "      border-top-color: var(--fill-color);\n",
              "    }\n",
              "    30% {\n",
              "      border-color: transparent;\n",
              "      border-left-color: var(--fill-color);\n",
              "      border-top-color: var(--fill-color);\n",
              "      border-right-color: var(--fill-color);\n",
              "    }\n",
              "    40% {\n",
              "      border-color: transparent;\n",
              "      border-right-color: var(--fill-color);\n",
              "      border-top-color: var(--fill-color);\n",
              "    }\n",
              "    60% {\n",
              "      border-color: transparent;\n",
              "      border-right-color: var(--fill-color);\n",
              "    }\n",
              "    80% {\n",
              "      border-color: transparent;\n",
              "      border-right-color: var(--fill-color);\n",
              "      border-bottom-color: var(--fill-color);\n",
              "    }\n",
              "    90% {\n",
              "      border-color: transparent;\n",
              "      border-bottom-color: var(--fill-color);\n",
              "    }\n",
              "  }\n",
              "</style>\n",
              "\n",
              "  <script>\n",
              "    async function quickchart(key) {\n",
              "      const quickchartButtonEl =\n",
              "        document.querySelector('#' + key + ' button');\n",
              "      quickchartButtonEl.disabled = true;  // To prevent multiple clicks.\n",
              "      quickchartButtonEl.classList.add('colab-df-spinner');\n",
              "      try {\n",
              "        const charts = await google.colab.kernel.invokeFunction(\n",
              "            'suggestCharts', [key], {});\n",
              "      } catch (error) {\n",
              "        console.error('Error during call to suggestCharts:', error);\n",
              "      }\n",
              "      quickchartButtonEl.classList.remove('colab-df-spinner');\n",
              "      quickchartButtonEl.classList.add('colab-df-quickchart-complete');\n",
              "    }\n",
              "    (() => {\n",
              "      let quickchartButtonEl =\n",
              "        document.querySelector('#df-6ad7f684-fb99-4b9f-9cf4-db0a91d580ff button');\n",
              "      quickchartButtonEl.style.display =\n",
              "        google.colab.kernel.accessAllowed ? 'block' : 'none';\n",
              "    })();\n",
              "  </script>\n",
              "</div>\n",
              "\n",
              "    </div>\n",
              "  </div>\n"
            ],
            "application/vnd.google.colaboratory.intrinsic+json": {
              "type": "dataframe",
              "variable_name": "X",
              "summary": "{\n  \"name\": \"X\",\n  \"rows\": 41188,\n  \"fields\": [\n    {\n      \"column\": \"age\",\n      \"properties\": {\n        \"dtype\": \"number\",\n        \"std\": 10,\n        \"min\": 17,\n        \"max\": 98,\n        \"num_unique_values\": 78,\n        \"samples\": [\n          36,\n          56,\n          28\n        ],\n        \"semantic_type\": \"\",\n        \"description\": \"\"\n      }\n    },\n    {\n      \"column\": \"default\",\n      \"properties\": {\n        \"dtype\": \"category\",\n        \"num_unique_values\": 3,\n        \"samples\": [\n          \"no\",\n          \"unknown\",\n          \"yes\"\n        ],\n        \"semantic_type\": \"\",\n        \"description\": \"\"\n      }\n    },\n    {\n      \"column\": \"cons.price.idx\",\n      \"properties\": {\n        \"dtype\": \"number\",\n        \"std\": 0.5788400489541262,\n        \"min\": 92.201,\n        \"max\": 94.767,\n        \"num_unique_values\": 26,\n        \"samples\": [\n          93.075,\n          92.713,\n          93.994\n        ],\n        \"semantic_type\": \"\",\n        \"description\": \"\"\n      }\n    },\n    {\n      \"column\": \"cons.conf.idx\",\n      \"properties\": {\n        \"dtype\": \"number\",\n        \"std\": 4.628197856174544,\n        \"min\": -50.8,\n        \"max\": -26.9,\n        \"num_unique_values\": 26,\n        \"samples\": [\n          -47.1,\n          -33.0,\n          -36.4\n        ],\n        \"semantic_type\": \"\",\n        \"description\": \"\"\n      }\n    }\n  ]\n}"
            }
          },
          "metadata": {},
          "execution_count": 43
        }
      ]
    },
    {
      "cell_type": "code",
      "source": [
        "y.head()"
      ],
      "metadata": {
        "colab": {
          "base_uri": "https://localhost:8080/"
        },
        "id": "lYjDgMaJd5VI",
        "outputId": "929e796e-a45c-4008-b051-e4ad13dc9c68"
      },
      "execution_count": 44,
      "outputs": [
        {
          "output_type": "execute_result",
          "data": {
            "text/plain": [
              "0    no\n",
              "1    no\n",
              "2    no\n",
              "3    no\n",
              "4    no\n",
              "Name: y, dtype: object"
            ]
          },
          "metadata": {},
          "execution_count": 44
        }
      ]
    },
    {
      "cell_type": "code",
      "source": [
        "X['default'] = X['default'].map({'no':0, 'unknown':0, 'yes':1})\n",
        "y = y.map({'no':0, 'yes':1})"
      ],
      "metadata": {
        "colab": {
          "base_uri": "https://localhost:8080/"
        },
        "id": "CB3Ozb68eAto",
        "outputId": "b96beee2-bcbe-4e87-8f86-7de8343cf4cd"
      },
      "execution_count": 45,
      "outputs": [
        {
          "output_type": "stream",
          "name": "stderr",
          "text": [
            "<ipython-input-45-318f02ab6236>:1: SettingWithCopyWarning: \n",
            "A value is trying to be set on a copy of a slice from a DataFrame.\n",
            "Try using .loc[row_indexer,col_indexer] = value instead\n",
            "\n",
            "See the caveats in the documentation: https://pandas.pydata.org/pandas-docs/stable/user_guide/indexing.html#returning-a-view-versus-a-copy\n",
            "  X['default'] = X['default'].map({'no':0, 'unknown':0, 'yes':1})\n"
          ]
        }
      ]
    },
    {
      "cell_type": "code",
      "source": [
        "X.head()"
      ],
      "metadata": {
        "colab": {
          "base_uri": "https://localhost:8080/",
          "height": 206
        },
        "id": "uOcABxKuehFC",
        "outputId": "8b3c3a6e-ee59-4917-8880-98e3fbbef6c9"
      },
      "execution_count": 46,
      "outputs": [
        {
          "output_type": "execute_result",
          "data": {
            "text/plain": [
              "   age  default  cons.price.idx  cons.conf.idx\n",
              "0   56        0          93.994          -36.4\n",
              "1   57        0          93.994          -36.4\n",
              "2   37        0          93.994          -36.4\n",
              "3   40        0          93.994          -36.4\n",
              "4   56        0          93.994          -36.4"
            ],
            "text/html": [
              "\n",
              "  <div id=\"df-5c879ad9-02c5-4141-838c-8ae2aeb35892\" class=\"colab-df-container\">\n",
              "    <div>\n",
              "<style scoped>\n",
              "    .dataframe tbody tr th:only-of-type {\n",
              "        vertical-align: middle;\n",
              "    }\n",
              "\n",
              "    .dataframe tbody tr th {\n",
              "        vertical-align: top;\n",
              "    }\n",
              "\n",
              "    .dataframe thead th {\n",
              "        text-align: right;\n",
              "    }\n",
              "</style>\n",
              "<table border=\"1\" class=\"dataframe\">\n",
              "  <thead>\n",
              "    <tr style=\"text-align: right;\">\n",
              "      <th></th>\n",
              "      <th>age</th>\n",
              "      <th>default</th>\n",
              "      <th>cons.price.idx</th>\n",
              "      <th>cons.conf.idx</th>\n",
              "    </tr>\n",
              "  </thead>\n",
              "  <tbody>\n",
              "    <tr>\n",
              "      <th>0</th>\n",
              "      <td>56</td>\n",
              "      <td>0</td>\n",
              "      <td>93.994</td>\n",
              "      <td>-36.4</td>\n",
              "    </tr>\n",
              "    <tr>\n",
              "      <th>1</th>\n",
              "      <td>57</td>\n",
              "      <td>0</td>\n",
              "      <td>93.994</td>\n",
              "      <td>-36.4</td>\n",
              "    </tr>\n",
              "    <tr>\n",
              "      <th>2</th>\n",
              "      <td>37</td>\n",
              "      <td>0</td>\n",
              "      <td>93.994</td>\n",
              "      <td>-36.4</td>\n",
              "    </tr>\n",
              "    <tr>\n",
              "      <th>3</th>\n",
              "      <td>40</td>\n",
              "      <td>0</td>\n",
              "      <td>93.994</td>\n",
              "      <td>-36.4</td>\n",
              "    </tr>\n",
              "    <tr>\n",
              "      <th>4</th>\n",
              "      <td>56</td>\n",
              "      <td>0</td>\n",
              "      <td>93.994</td>\n",
              "      <td>-36.4</td>\n",
              "    </tr>\n",
              "  </tbody>\n",
              "</table>\n",
              "</div>\n",
              "    <div class=\"colab-df-buttons\">\n",
              "\n",
              "  <div class=\"colab-df-container\">\n",
              "    <button class=\"colab-df-convert\" onclick=\"convertToInteractive('df-5c879ad9-02c5-4141-838c-8ae2aeb35892')\"\n",
              "            title=\"Convert this dataframe to an interactive table.\"\n",
              "            style=\"display:none;\">\n",
              "\n",
              "  <svg xmlns=\"http://www.w3.org/2000/svg\" height=\"24px\" viewBox=\"0 -960 960 960\">\n",
              "    <path d=\"M120-120v-720h720v720H120Zm60-500h600v-160H180v160Zm220 220h160v-160H400v160Zm0 220h160v-160H400v160ZM180-400h160v-160H180v160Zm440 0h160v-160H620v160ZM180-180h160v-160H180v160Zm440 0h160v-160H620v160Z\"/>\n",
              "  </svg>\n",
              "    </button>\n",
              "\n",
              "  <style>\n",
              "    .colab-df-container {\n",
              "      display:flex;\n",
              "      gap: 12px;\n",
              "    }\n",
              "\n",
              "    .colab-df-convert {\n",
              "      background-color: #E8F0FE;\n",
              "      border: none;\n",
              "      border-radius: 50%;\n",
              "      cursor: pointer;\n",
              "      display: none;\n",
              "      fill: #1967D2;\n",
              "      height: 32px;\n",
              "      padding: 0 0 0 0;\n",
              "      width: 32px;\n",
              "    }\n",
              "\n",
              "    .colab-df-convert:hover {\n",
              "      background-color: #E2EBFA;\n",
              "      box-shadow: 0px 1px 2px rgba(60, 64, 67, 0.3), 0px 1px 3px 1px rgba(60, 64, 67, 0.15);\n",
              "      fill: #174EA6;\n",
              "    }\n",
              "\n",
              "    .colab-df-buttons div {\n",
              "      margin-bottom: 4px;\n",
              "    }\n",
              "\n",
              "    [theme=dark] .colab-df-convert {\n",
              "      background-color: #3B4455;\n",
              "      fill: #D2E3FC;\n",
              "    }\n",
              "\n",
              "    [theme=dark] .colab-df-convert:hover {\n",
              "      background-color: #434B5C;\n",
              "      box-shadow: 0px 1px 3px 1px rgba(0, 0, 0, 0.15);\n",
              "      filter: drop-shadow(0px 1px 2px rgba(0, 0, 0, 0.3));\n",
              "      fill: #FFFFFF;\n",
              "    }\n",
              "  </style>\n",
              "\n",
              "    <script>\n",
              "      const buttonEl =\n",
              "        document.querySelector('#df-5c879ad9-02c5-4141-838c-8ae2aeb35892 button.colab-df-convert');\n",
              "      buttonEl.style.display =\n",
              "        google.colab.kernel.accessAllowed ? 'block' : 'none';\n",
              "\n",
              "      async function convertToInteractive(key) {\n",
              "        const element = document.querySelector('#df-5c879ad9-02c5-4141-838c-8ae2aeb35892');\n",
              "        const dataTable =\n",
              "          await google.colab.kernel.invokeFunction('convertToInteractive',\n",
              "                                                    [key], {});\n",
              "        if (!dataTable) return;\n",
              "\n",
              "        const docLinkHtml = 'Like what you see? Visit the ' +\n",
              "          '<a target=\"_blank\" href=https://colab.research.google.com/notebooks/data_table.ipynb>data table notebook</a>'\n",
              "          + ' to learn more about interactive tables.';\n",
              "        element.innerHTML = '';\n",
              "        dataTable['output_type'] = 'display_data';\n",
              "        await google.colab.output.renderOutput(dataTable, element);\n",
              "        const docLink = document.createElement('div');\n",
              "        docLink.innerHTML = docLinkHtml;\n",
              "        element.appendChild(docLink);\n",
              "      }\n",
              "    </script>\n",
              "  </div>\n",
              "\n",
              "\n",
              "<div id=\"df-9946cbd4-b977-4df7-b51d-9ce6c03f3da5\">\n",
              "  <button class=\"colab-df-quickchart\" onclick=\"quickchart('df-9946cbd4-b977-4df7-b51d-9ce6c03f3da5')\"\n",
              "            title=\"Suggest charts\"\n",
              "            style=\"display:none;\">\n",
              "\n",
              "<svg xmlns=\"http://www.w3.org/2000/svg\" height=\"24px\"viewBox=\"0 0 24 24\"\n",
              "     width=\"24px\">\n",
              "    <g>\n",
              "        <path d=\"M19 3H5c-1.1 0-2 .9-2 2v14c0 1.1.9 2 2 2h14c1.1 0 2-.9 2-2V5c0-1.1-.9-2-2-2zM9 17H7v-7h2v7zm4 0h-2V7h2v10zm4 0h-2v-4h2v4z\"/>\n",
              "    </g>\n",
              "</svg>\n",
              "  </button>\n",
              "\n",
              "<style>\n",
              "  .colab-df-quickchart {\n",
              "      --bg-color: #E8F0FE;\n",
              "      --fill-color: #1967D2;\n",
              "      --hover-bg-color: #E2EBFA;\n",
              "      --hover-fill-color: #174EA6;\n",
              "      --disabled-fill-color: #AAA;\n",
              "      --disabled-bg-color: #DDD;\n",
              "  }\n",
              "\n",
              "  [theme=dark] .colab-df-quickchart {\n",
              "      --bg-color: #3B4455;\n",
              "      --fill-color: #D2E3FC;\n",
              "      --hover-bg-color: #434B5C;\n",
              "      --hover-fill-color: #FFFFFF;\n",
              "      --disabled-bg-color: #3B4455;\n",
              "      --disabled-fill-color: #666;\n",
              "  }\n",
              "\n",
              "  .colab-df-quickchart {\n",
              "    background-color: var(--bg-color);\n",
              "    border: none;\n",
              "    border-radius: 50%;\n",
              "    cursor: pointer;\n",
              "    display: none;\n",
              "    fill: var(--fill-color);\n",
              "    height: 32px;\n",
              "    padding: 0;\n",
              "    width: 32px;\n",
              "  }\n",
              "\n",
              "  .colab-df-quickchart:hover {\n",
              "    background-color: var(--hover-bg-color);\n",
              "    box-shadow: 0 1px 2px rgba(60, 64, 67, 0.3), 0 1px 3px 1px rgba(60, 64, 67, 0.15);\n",
              "    fill: var(--button-hover-fill-color);\n",
              "  }\n",
              "\n",
              "  .colab-df-quickchart-complete:disabled,\n",
              "  .colab-df-quickchart-complete:disabled:hover {\n",
              "    background-color: var(--disabled-bg-color);\n",
              "    fill: var(--disabled-fill-color);\n",
              "    box-shadow: none;\n",
              "  }\n",
              "\n",
              "  .colab-df-spinner {\n",
              "    border: 2px solid var(--fill-color);\n",
              "    border-color: transparent;\n",
              "    border-bottom-color: var(--fill-color);\n",
              "    animation:\n",
              "      spin 1s steps(1) infinite;\n",
              "  }\n",
              "\n",
              "  @keyframes spin {\n",
              "    0% {\n",
              "      border-color: transparent;\n",
              "      border-bottom-color: var(--fill-color);\n",
              "      border-left-color: var(--fill-color);\n",
              "    }\n",
              "    20% {\n",
              "      border-color: transparent;\n",
              "      border-left-color: var(--fill-color);\n",
              "      border-top-color: var(--fill-color);\n",
              "    }\n",
              "    30% {\n",
              "      border-color: transparent;\n",
              "      border-left-color: var(--fill-color);\n",
              "      border-top-color: var(--fill-color);\n",
              "      border-right-color: var(--fill-color);\n",
              "    }\n",
              "    40% {\n",
              "      border-color: transparent;\n",
              "      border-right-color: var(--fill-color);\n",
              "      border-top-color: var(--fill-color);\n",
              "    }\n",
              "    60% {\n",
              "      border-color: transparent;\n",
              "      border-right-color: var(--fill-color);\n",
              "    }\n",
              "    80% {\n",
              "      border-color: transparent;\n",
              "      border-right-color: var(--fill-color);\n",
              "      border-bottom-color: var(--fill-color);\n",
              "    }\n",
              "    90% {\n",
              "      border-color: transparent;\n",
              "      border-bottom-color: var(--fill-color);\n",
              "    }\n",
              "  }\n",
              "</style>\n",
              "\n",
              "  <script>\n",
              "    async function quickchart(key) {\n",
              "      const quickchartButtonEl =\n",
              "        document.querySelector('#' + key + ' button');\n",
              "      quickchartButtonEl.disabled = true;  // To prevent multiple clicks.\n",
              "      quickchartButtonEl.classList.add('colab-df-spinner');\n",
              "      try {\n",
              "        const charts = await google.colab.kernel.invokeFunction(\n",
              "            'suggestCharts', [key], {});\n",
              "      } catch (error) {\n",
              "        console.error('Error during call to suggestCharts:', error);\n",
              "      }\n",
              "      quickchartButtonEl.classList.remove('colab-df-spinner');\n",
              "      quickchartButtonEl.classList.add('colab-df-quickchart-complete');\n",
              "    }\n",
              "    (() => {\n",
              "      let quickchartButtonEl =\n",
              "        document.querySelector('#df-9946cbd4-b977-4df7-b51d-9ce6c03f3da5 button');\n",
              "      quickchartButtonEl.style.display =\n",
              "        google.colab.kernel.accessAllowed ? 'block' : 'none';\n",
              "    })();\n",
              "  </script>\n",
              "</div>\n",
              "\n",
              "    </div>\n",
              "  </div>\n"
            ],
            "application/vnd.google.colaboratory.intrinsic+json": {
              "type": "dataframe",
              "variable_name": "X",
              "summary": "{\n  \"name\": \"X\",\n  \"rows\": 41188,\n  \"fields\": [\n    {\n      \"column\": \"age\",\n      \"properties\": {\n        \"dtype\": \"number\",\n        \"std\": 10,\n        \"min\": 17,\n        \"max\": 98,\n        \"num_unique_values\": 78,\n        \"samples\": [\n          36,\n          56,\n          28\n        ],\n        \"semantic_type\": \"\",\n        \"description\": \"\"\n      }\n    },\n    {\n      \"column\": \"default\",\n      \"properties\": {\n        \"dtype\": \"number\",\n        \"std\": 0,\n        \"min\": 0,\n        \"max\": 1,\n        \"num_unique_values\": 2,\n        \"samples\": [\n          1,\n          0\n        ],\n        \"semantic_type\": \"\",\n        \"description\": \"\"\n      }\n    },\n    {\n      \"column\": \"cons.price.idx\",\n      \"properties\": {\n        \"dtype\": \"number\",\n        \"std\": 0.5788400489541262,\n        \"min\": 92.201,\n        \"max\": 94.767,\n        \"num_unique_values\": 26,\n        \"samples\": [\n          93.075,\n          92.713\n        ],\n        \"semantic_type\": \"\",\n        \"description\": \"\"\n      }\n    },\n    {\n      \"column\": \"cons.conf.idx\",\n      \"properties\": {\n        \"dtype\": \"number\",\n        \"std\": 4.628197856174544,\n        \"min\": -50.8,\n        \"max\": -26.9,\n        \"num_unique_values\": 26,\n        \"samples\": [\n          -47.1,\n          -33.0\n        ],\n        \"semantic_type\": \"\",\n        \"description\": \"\"\n      }\n    }\n  ]\n}"
            }
          },
          "metadata": {},
          "execution_count": 46
        }
      ]
    },
    {
      "cell_type": "code",
      "source": [
        "y.head()"
      ],
      "metadata": {
        "colab": {
          "base_uri": "https://localhost:8080/"
        },
        "id": "rOrGTZAVelk1",
        "outputId": "52c023e1-6c0a-4e45-80a7-ed475749c9d6"
      },
      "execution_count": 47,
      "outputs": [
        {
          "output_type": "execute_result",
          "data": {
            "text/plain": [
              "0    0\n",
              "1    0\n",
              "2    0\n",
              "3    0\n",
              "4    0\n",
              "Name: y, dtype: int64"
            ]
          },
          "metadata": {},
          "execution_count": 47
        }
      ]
    },
    {
      "cell_type": "code",
      "source": [
        "from sklearn.model_selection import train_test_split"
      ],
      "metadata": {
        "id": "QdD7AT--enRh"
      },
      "execution_count": 48,
      "outputs": []
    },
    {
      "cell_type": "code",
      "source": [
        "X_train, X_test, y_train, y_test = train_test_split(X, y, test_size=0.2)"
      ],
      "metadata": {
        "id": "lfvcvdA6es0Z"
      },
      "execution_count": 49,
      "outputs": []
    },
    {
      "cell_type": "code",
      "source": [
        "for i in X_train, X_test, y_train, y_test:\n",
        "    print(len(i))"
      ],
      "metadata": {
        "colab": {
          "base_uri": "https://localhost:8080/"
        },
        "id": "OmYy6F2Qew9W",
        "outputId": "6d0a2780-9d72-48fd-e160-e3370976434f"
      },
      "execution_count": 50,
      "outputs": [
        {
          "output_type": "stream",
          "name": "stdout",
          "text": [
            "32950\n",
            "8238\n",
            "32950\n",
            "8238\n"
          ]
        }
      ]
    },
    {
      "cell_type": "code",
      "source": [
        "from sklearn.ensemble import RandomForestClassifier"
      ],
      "metadata": {
        "id": "h9VGxsMue0SP"
      },
      "execution_count": 51,
      "outputs": []
    },
    {
      "cell_type": "code",
      "source": [
        "rf = RandomForestClassifier()\n",
        "\n",
        "rf.fit(X_train, y_train)"
      ],
      "metadata": {
        "colab": {
          "base_uri": "https://localhost:8080/",
          "height": 75
        },
        "id": "1mtwewsve7e5",
        "outputId": "10ce68d6-e509-4d88-9351-20282c3d8998"
      },
      "execution_count": 52,
      "outputs": [
        {
          "output_type": "execute_result",
          "data": {
            "text/plain": [
              "RandomForestClassifier()"
            ],
            "text/html": [
              "<style>#sk-container-id-4 {color: black;background-color: white;}#sk-container-id-4 pre{padding: 0;}#sk-container-id-4 div.sk-toggleable {background-color: white;}#sk-container-id-4 label.sk-toggleable__label {cursor: pointer;display: block;width: 100%;margin-bottom: 0;padding: 0.3em;box-sizing: border-box;text-align: center;}#sk-container-id-4 label.sk-toggleable__label-arrow:before {content: \"▸\";float: left;margin-right: 0.25em;color: #696969;}#sk-container-id-4 label.sk-toggleable__label-arrow:hover:before {color: black;}#sk-container-id-4 div.sk-estimator:hover label.sk-toggleable__label-arrow:before {color: black;}#sk-container-id-4 div.sk-toggleable__content {max-height: 0;max-width: 0;overflow: hidden;text-align: left;background-color: #f0f8ff;}#sk-container-id-4 div.sk-toggleable__content pre {margin: 0.2em;color: black;border-radius: 0.25em;background-color: #f0f8ff;}#sk-container-id-4 input.sk-toggleable__control:checked~div.sk-toggleable__content {max-height: 200px;max-width: 100%;overflow: auto;}#sk-container-id-4 input.sk-toggleable__control:checked~label.sk-toggleable__label-arrow:before {content: \"▾\";}#sk-container-id-4 div.sk-estimator input.sk-toggleable__control:checked~label.sk-toggleable__label {background-color: #d4ebff;}#sk-container-id-4 div.sk-label input.sk-toggleable__control:checked~label.sk-toggleable__label {background-color: #d4ebff;}#sk-container-id-4 input.sk-hidden--visually {border: 0;clip: rect(1px 1px 1px 1px);clip: rect(1px, 1px, 1px, 1px);height: 1px;margin: -1px;overflow: hidden;padding: 0;position: absolute;width: 1px;}#sk-container-id-4 div.sk-estimator {font-family: monospace;background-color: #f0f8ff;border: 1px dotted black;border-radius: 0.25em;box-sizing: border-box;margin-bottom: 0.5em;}#sk-container-id-4 div.sk-estimator:hover {background-color: #d4ebff;}#sk-container-id-4 div.sk-parallel-item::after {content: \"\";width: 100%;border-bottom: 1px solid gray;flex-grow: 1;}#sk-container-id-4 div.sk-label:hover label.sk-toggleable__label {background-color: #d4ebff;}#sk-container-id-4 div.sk-serial::before {content: \"\";position: absolute;border-left: 1px solid gray;box-sizing: border-box;top: 0;bottom: 0;left: 50%;z-index: 0;}#sk-container-id-4 div.sk-serial {display: flex;flex-direction: column;align-items: center;background-color: white;padding-right: 0.2em;padding-left: 0.2em;position: relative;}#sk-container-id-4 div.sk-item {position: relative;z-index: 1;}#sk-container-id-4 div.sk-parallel {display: flex;align-items: stretch;justify-content: center;background-color: white;position: relative;}#sk-container-id-4 div.sk-item::before, #sk-container-id-4 div.sk-parallel-item::before {content: \"\";position: absolute;border-left: 1px solid gray;box-sizing: border-box;top: 0;bottom: 0;left: 50%;z-index: -1;}#sk-container-id-4 div.sk-parallel-item {display: flex;flex-direction: column;z-index: 1;position: relative;background-color: white;}#sk-container-id-4 div.sk-parallel-item:first-child::after {align-self: flex-end;width: 50%;}#sk-container-id-4 div.sk-parallel-item:last-child::after {align-self: flex-start;width: 50%;}#sk-container-id-4 div.sk-parallel-item:only-child::after {width: 0;}#sk-container-id-4 div.sk-dashed-wrapped {border: 1px dashed gray;margin: 0 0.4em 0.5em 0.4em;box-sizing: border-box;padding-bottom: 0.4em;background-color: white;}#sk-container-id-4 div.sk-label label {font-family: monospace;font-weight: bold;display: inline-block;line-height: 1.2em;}#sk-container-id-4 div.sk-label-container {text-align: center;}#sk-container-id-4 div.sk-container {/* jupyter's `normalize.less` sets `[hidden] { display: none; }` but bootstrap.min.css set `[hidden] { display: none !important; }` so we also need the `!important` here to be able to override the default hidden behavior on the sphinx rendered scikit-learn.org. See: https://github.com/scikit-learn/scikit-learn/issues/21755 */display: inline-block !important;position: relative;}#sk-container-id-4 div.sk-text-repr-fallback {display: none;}</style><div id=\"sk-container-id-4\" class=\"sk-top-container\"><div class=\"sk-text-repr-fallback\"><pre>RandomForestClassifier()</pre><b>In a Jupyter environment, please rerun this cell to show the HTML representation or trust the notebook. <br />On GitHub, the HTML representation is unable to render, please try loading this page with nbviewer.org.</b></div><div class=\"sk-container\" hidden><div class=\"sk-item\"><div class=\"sk-estimator sk-toggleable\"><input class=\"sk-toggleable__control sk-hidden--visually\" id=\"sk-estimator-id-4\" type=\"checkbox\" checked><label for=\"sk-estimator-id-4\" class=\"sk-toggleable__label sk-toggleable__label-arrow\">RandomForestClassifier</label><div class=\"sk-toggleable__content\"><pre>RandomForestClassifier()</pre></div></div></div></div></div>"
            ]
          },
          "metadata": {},
          "execution_count": 52
        }
      ]
    },
    {
      "cell_type": "code",
      "source": [
        "y_pred = rf.predict(X_test)"
      ],
      "metadata": {
        "id": "aComuCdPe_kp"
      },
      "execution_count": 53,
      "outputs": []
    },
    {
      "cell_type": "code",
      "source": [
        "from sklearn.metrics import accuracy_score"
      ],
      "metadata": {
        "id": "yLUtnTcZfOji"
      },
      "execution_count": 54,
      "outputs": []
    },
    {
      "cell_type": "code",
      "source": [
        "accuracy_score(y_pred, y_test)"
      ],
      "metadata": {
        "colab": {
          "base_uri": "https://localhost:8080/"
        },
        "id": "vwBe5IaafQ3z",
        "outputId": "3e0cc280-8355-4333-843d-997c5077908c"
      },
      "execution_count": 55,
      "outputs": [
        {
          "output_type": "execute_result",
          "data": {
            "text/plain": [
              "0.8897790725904345"
            ]
          },
          "metadata": {},
          "execution_count": 55
        }
      ]
    },
    {
      "cell_type": "code",
      "source": [
        "type(rf.estimators_)"
      ],
      "metadata": {
        "colab": {
          "base_uri": "https://localhost:8080/"
        },
        "id": "mBmptyCDfTVC",
        "outputId": "0cb59fb8-a65d-4fe5-c32f-b2d6bc9eb5f7"
      },
      "execution_count": 56,
      "outputs": [
        {
          "output_type": "execute_result",
          "data": {
            "text/plain": [
              "list"
            ]
          },
          "metadata": {},
          "execution_count": 56
        }
      ]
    },
    {
      "cell_type": "code",
      "source": [
        "type(rf.estimators_[0])"
      ],
      "metadata": {
        "colab": {
          "base_uri": "https://localhost:8080/",
          "height": 221
        },
        "id": "aHjPR2dof1jl",
        "outputId": "4b511af9-1abe-4f81-e1d7-88eb0cb60f63"
      },
      "execution_count": 57,
      "outputs": [
        {
          "output_type": "execute_result",
          "data": {
            "text/plain": [
              "sklearn.tree._classes.DecisionTreeClassifier"
            ],
            "text/html": [
              "<div style=\"max-width:800px; border: 1px solid var(--colab-border-color);\"><style>\n",
              "      pre.function-repr-contents {\n",
              "        overflow-x: auto;\n",
              "        padding: 8px 12px;\n",
              "        max-height: 500px;\n",
              "      }\n",
              "\n",
              "      pre.function-repr-contents.function-repr-contents-collapsed {\n",
              "        cursor: pointer;\n",
              "        max-height: 100px;\n",
              "      }\n",
              "    </style>\n",
              "    <pre style=\"white-space: initial; background:\n",
              "         var(--colab-secondary-surface-color); padding: 8px 12px;\n",
              "         border-bottom: 1px solid var(--colab-border-color);\"><b>sklearn.tree._classes.DecisionTreeClassifier</b><br/>def __init__(*, criterion=&#x27;gini&#x27;, splitter=&#x27;best&#x27;, max_depth=None, min_samples_split=2, min_samples_leaf=1, min_weight_fraction_leaf=0.0, max_features=None, random_state=None, max_leaf_nodes=None, min_impurity_decrease=0.0, class_weight=None, ccp_alpha=0.0)</pre><pre class=\"function-repr-contents function-repr-contents-collapsed\" style=\"\"><a class=\"filepath\" style=\"display:none\" href=\"#\">/usr/local/lib/python3.10/dist-packages/sklearn/tree/_classes.py</a>A decision tree classifier.\n",
              "\n",
              "Read more in the :ref:`User Guide &lt;tree&gt;`.\n",
              "\n",
              "Parameters\n",
              "----------\n",
              "criterion : {&quot;gini&quot;, &quot;entropy&quot;, &quot;log_loss&quot;}, default=&quot;gini&quot;\n",
              "    The function to measure the quality of a split. Supported criteria are\n",
              "    &quot;gini&quot; for the Gini impurity and &quot;log_loss&quot; and &quot;entropy&quot; both for the\n",
              "    Shannon information gain, see :ref:`tree_mathematical_formulation`.\n",
              "\n",
              "splitter : {&quot;best&quot;, &quot;random&quot;}, default=&quot;best&quot;\n",
              "    The strategy used to choose the split at each node. Supported\n",
              "    strategies are &quot;best&quot; to choose the best split and &quot;random&quot; to choose\n",
              "    the best random split.\n",
              "\n",
              "max_depth : int, default=None\n",
              "    The maximum depth of the tree. If None, then nodes are expanded until\n",
              "    all leaves are pure or until all leaves contain less than\n",
              "    min_samples_split samples.\n",
              "\n",
              "min_samples_split : int or float, default=2\n",
              "    The minimum number of samples required to split an internal node:\n",
              "\n",
              "    - If int, then consider `min_samples_split` as the minimum number.\n",
              "    - If float, then `min_samples_split` is a fraction and\n",
              "      `ceil(min_samples_split * n_samples)` are the minimum\n",
              "      number of samples for each split.\n",
              "\n",
              "    .. versionchanged:: 0.18\n",
              "       Added float values for fractions.\n",
              "\n",
              "min_samples_leaf : int or float, default=1\n",
              "    The minimum number of samples required to be at a leaf node.\n",
              "    A split point at any depth will only be considered if it leaves at\n",
              "    least ``min_samples_leaf`` training samples in each of the left and\n",
              "    right branches.  This may have the effect of smoothing the model,\n",
              "    especially in regression.\n",
              "\n",
              "    - If int, then consider `min_samples_leaf` as the minimum number.\n",
              "    - If float, then `min_samples_leaf` is a fraction and\n",
              "      `ceil(min_samples_leaf * n_samples)` are the minimum\n",
              "      number of samples for each node.\n",
              "\n",
              "    .. versionchanged:: 0.18\n",
              "       Added float values for fractions.\n",
              "\n",
              "min_weight_fraction_leaf : float, default=0.0\n",
              "    The minimum weighted fraction of the sum total of weights (of all\n",
              "    the input samples) required to be at a leaf node. Samples have\n",
              "    equal weight when sample_weight is not provided.\n",
              "\n",
              "max_features : int, float or {&quot;auto&quot;, &quot;sqrt&quot;, &quot;log2&quot;}, default=None\n",
              "    The number of features to consider when looking for the best split:\n",
              "\n",
              "        - If int, then consider `max_features` features at each split.\n",
              "        - If float, then `max_features` is a fraction and\n",
              "          `max(1, int(max_features * n_features_in_))` features are considered at\n",
              "          each split.\n",
              "        - If &quot;auto&quot;, then `max_features=sqrt(n_features)`.\n",
              "        - If &quot;sqrt&quot;, then `max_features=sqrt(n_features)`.\n",
              "        - If &quot;log2&quot;, then `max_features=log2(n_features)`.\n",
              "        - If None, then `max_features=n_features`.\n",
              "\n",
              "        .. deprecated:: 1.1\n",
              "            The `&quot;auto&quot;` option was deprecated in 1.1 and will be removed\n",
              "            in 1.3.\n",
              "\n",
              "    Note: the search for a split does not stop until at least one\n",
              "    valid partition of the node samples is found, even if it requires to\n",
              "    effectively inspect more than ``max_features`` features.\n",
              "\n",
              "random_state : int, RandomState instance or None, default=None\n",
              "    Controls the randomness of the estimator. The features are always\n",
              "    randomly permuted at each split, even if ``splitter`` is set to\n",
              "    ``&quot;best&quot;``. When ``max_features &lt; n_features``, the algorithm will\n",
              "    select ``max_features`` at random at each split before finding the best\n",
              "    split among them. But the best found split may vary across different\n",
              "    runs, even if ``max_features=n_features``. That is the case, if the\n",
              "    improvement of the criterion is identical for several splits and one\n",
              "    split has to be selected at random. To obtain a deterministic behaviour\n",
              "    during fitting, ``random_state`` has to be fixed to an integer.\n",
              "    See :term:`Glossary &lt;random_state&gt;` for details.\n",
              "\n",
              "max_leaf_nodes : int, default=None\n",
              "    Grow a tree with ``max_leaf_nodes`` in best-first fashion.\n",
              "    Best nodes are defined as relative reduction in impurity.\n",
              "    If None then unlimited number of leaf nodes.\n",
              "\n",
              "min_impurity_decrease : float, default=0.0\n",
              "    A node will be split if this split induces a decrease of the impurity\n",
              "    greater than or equal to this value.\n",
              "\n",
              "    The weighted impurity decrease equation is the following::\n",
              "\n",
              "        N_t / N * (impurity - N_t_R / N_t * right_impurity\n",
              "                            - N_t_L / N_t * left_impurity)\n",
              "\n",
              "    where ``N`` is the total number of samples, ``N_t`` is the number of\n",
              "    samples at the current node, ``N_t_L`` is the number of samples in the\n",
              "    left child, and ``N_t_R`` is the number of samples in the right child.\n",
              "\n",
              "    ``N``, ``N_t``, ``N_t_R`` and ``N_t_L`` all refer to the weighted sum,\n",
              "    if ``sample_weight`` is passed.\n",
              "\n",
              "    .. versionadded:: 0.19\n",
              "\n",
              "class_weight : dict, list of dict or &quot;balanced&quot;, default=None\n",
              "    Weights associated with classes in the form ``{class_label: weight}``.\n",
              "    If None, all classes are supposed to have weight one. For\n",
              "    multi-output problems, a list of dicts can be provided in the same\n",
              "    order as the columns of y.\n",
              "\n",
              "    Note that for multioutput (including multilabel) weights should be\n",
              "    defined for each class of every column in its own dict. For example,\n",
              "    for four-class multilabel classification weights should be\n",
              "    [{0: 1, 1: 1}, {0: 1, 1: 5}, {0: 1, 1: 1}, {0: 1, 1: 1}] instead of\n",
              "    [{1:1}, {2:5}, {3:1}, {4:1}].\n",
              "\n",
              "    The &quot;balanced&quot; mode uses the values of y to automatically adjust\n",
              "    weights inversely proportional to class frequencies in the input data\n",
              "    as ``n_samples / (n_classes * np.bincount(y))``\n",
              "\n",
              "    For multi-output, the weights of each column of y will be multiplied.\n",
              "\n",
              "    Note that these weights will be multiplied with sample_weight (passed\n",
              "    through the fit method) if sample_weight is specified.\n",
              "\n",
              "ccp_alpha : non-negative float, default=0.0\n",
              "    Complexity parameter used for Minimal Cost-Complexity Pruning. The\n",
              "    subtree with the largest cost complexity that is smaller than\n",
              "    ``ccp_alpha`` will be chosen. By default, no pruning is performed. See\n",
              "    :ref:`minimal_cost_complexity_pruning` for details.\n",
              "\n",
              "    .. versionadded:: 0.22\n",
              "\n",
              "Attributes\n",
              "----------\n",
              "classes_ : ndarray of shape (n_classes,) or list of ndarray\n",
              "    The classes labels (single output problem),\n",
              "    or a list of arrays of class labels (multi-output problem).\n",
              "\n",
              "feature_importances_ : ndarray of shape (n_features,)\n",
              "    The impurity-based feature importances.\n",
              "    The higher, the more important the feature.\n",
              "    The importance of a feature is computed as the (normalized)\n",
              "    total reduction of the criterion brought by that feature.  It is also\n",
              "    known as the Gini importance [4]_.\n",
              "\n",
              "    Warning: impurity-based feature importances can be misleading for\n",
              "    high cardinality features (many unique values). See\n",
              "    :func:`sklearn.inspection.permutation_importance` as an alternative.\n",
              "\n",
              "max_features_ : int\n",
              "    The inferred value of max_features.\n",
              "\n",
              "n_classes_ : int or list of int\n",
              "    The number of classes (for single output problems),\n",
              "    or a list containing the number of classes for each\n",
              "    output (for multi-output problems).\n",
              "\n",
              "n_features_in_ : int\n",
              "    Number of features seen during :term:`fit`.\n",
              "\n",
              "    .. versionadded:: 0.24\n",
              "\n",
              "feature_names_in_ : ndarray of shape (`n_features_in_`,)\n",
              "    Names of features seen during :term:`fit`. Defined only when `X`\n",
              "    has feature names that are all strings.\n",
              "\n",
              "    .. versionadded:: 1.0\n",
              "\n",
              "n_outputs_ : int\n",
              "    The number of outputs when ``fit`` is performed.\n",
              "\n",
              "tree_ : Tree instance\n",
              "    The underlying Tree object. Please refer to\n",
              "    ``help(sklearn.tree._tree.Tree)`` for attributes of Tree object and\n",
              "    :ref:`sphx_glr_auto_examples_tree_plot_unveil_tree_structure.py`\n",
              "    for basic usage of these attributes.\n",
              "\n",
              "See Also\n",
              "--------\n",
              "DecisionTreeRegressor : A decision tree regressor.\n",
              "\n",
              "Notes\n",
              "-----\n",
              "The default values for the parameters controlling the size of the trees\n",
              "(e.g. ``max_depth``, ``min_samples_leaf``, etc.) lead to fully grown and\n",
              "unpruned trees which can potentially be very large on some data sets. To\n",
              "reduce memory consumption, the complexity and size of the trees should be\n",
              "controlled by setting those parameter values.\n",
              "\n",
              "The :meth:`predict` method operates using the :func:`numpy.argmax`\n",
              "function on the outputs of :meth:`predict_proba`. This means that in\n",
              "case the highest predicted probabilities are tied, the classifier will\n",
              "predict the tied class with the lowest index in :term:`classes_`.\n",
              "\n",
              "References\n",
              "----------\n",
              "\n",
              ".. [1] https://en.wikipedia.org/wiki/Decision_tree_learning\n",
              "\n",
              ".. [2] L. Breiman, J. Friedman, R. Olshen, and C. Stone, &quot;Classification\n",
              "       and Regression Trees&quot;, Wadsworth, Belmont, CA, 1984.\n",
              "\n",
              ".. [3] T. Hastie, R. Tibshirani and J. Friedman. &quot;Elements of Statistical\n",
              "       Learning&quot;, Springer, 2009.\n",
              "\n",
              ".. [4] L. Breiman, and A. Cutler, &quot;Random Forests&quot;,\n",
              "       https://www.stat.berkeley.edu/~breiman/RandomForests/cc_home.htm\n",
              "\n",
              "Examples\n",
              "--------\n",
              "&gt;&gt;&gt; from sklearn.datasets import load_iris\n",
              "&gt;&gt;&gt; from sklearn.model_selection import cross_val_score\n",
              "&gt;&gt;&gt; from sklearn.tree import DecisionTreeClassifier\n",
              "&gt;&gt;&gt; clf = DecisionTreeClassifier(random_state=0)\n",
              "&gt;&gt;&gt; iris = load_iris()\n",
              "&gt;&gt;&gt; cross_val_score(clf, iris.data, iris.target, cv=10)\n",
              "...                             # doctest: +SKIP\n",
              "...\n",
              "array([ 1.     ,  0.93...,  0.86...,  0.93...,  0.93...,\n",
              "        0.93...,  0.93...,  1.     ,  0.93...,  1.      ])</pre>\n",
              "      <script>\n",
              "      if (google.colab.kernel.accessAllowed && google.colab.files && google.colab.files.view) {\n",
              "        for (const element of document.querySelectorAll('.filepath')) {\n",
              "          element.style.display = 'block'\n",
              "          element.onclick = (event) => {\n",
              "            event.preventDefault();\n",
              "            event.stopPropagation();\n",
              "            google.colab.files.view(element.textContent, 595);\n",
              "          };\n",
              "        }\n",
              "      }\n",
              "      for (const element of document.querySelectorAll('.function-repr-contents')) {\n",
              "        element.onclick = (event) => {\n",
              "          event.preventDefault();\n",
              "          event.stopPropagation();\n",
              "          element.classList.toggle('function-repr-contents-collapsed');\n",
              "        };\n",
              "      }\n",
              "      </script>\n",
              "      </div>"
            ]
          },
          "metadata": {},
          "execution_count": 57
        }
      ]
    },
    {
      "cell_type": "code",
      "source": [
        "len(rf.estimators_)"
      ],
      "metadata": {
        "colab": {
          "base_uri": "https://localhost:8080/"
        },
        "id": "QYTaiBZof72e",
        "outputId": "d8d9cbf6-36a3-4679-8533-6f1c92812e5f"
      },
      "execution_count": 58,
      "outputs": [
        {
          "output_type": "execute_result",
          "data": {
            "text/plain": [
              "100"
            ]
          },
          "metadata": {},
          "execution_count": 58
        }
      ]
    },
    {
      "cell_type": "code",
      "source": [
        "from sklearn.tree import export_graphviz\n",
        "import graphviz"
      ],
      "metadata": {
        "id": "tl1kM6vOgLqQ"
      },
      "execution_count": 59,
      "outputs": []
    },
    {
      "cell_type": "code",
      "source": [
        "for tree in rf.estimators_[:3]:\n",
        "    ddata = export_graphviz(tree, out_file=None, max_depth=2, feature_names=feature_cols, class_names=['0', '1'], filled=True, rounded=True, special_characters=True)\n",
        "    graph = graphviz.Source(ddata)\n",
        "    display(graph)"
      ],
      "metadata": {
        "colab": {
          "base_uri": "https://localhost:8080/",
          "height": 1000
        },
        "id": "GbmlfmpNgCmL",
        "outputId": "b5af5e13-e2e8-4f7c-a7bb-92225d819147"
      },
      "execution_count": 60,
      "outputs": [
        {
          "output_type": "display_data",
          "data": {
            "image/svg+xml": "<?xml version=\"1.0\" encoding=\"UTF-8\" standalone=\"no\"?>\n<!DOCTYPE svg PUBLIC \"-//W3C//DTD SVG 1.1//EN\"\n \"http://www.w3.org/Graphics/SVG/1.1/DTD/svg11.dtd\">\n<!-- Generated by graphviz version 2.43.0 (0)\n -->\n<!-- Title: Tree Pages: 1 -->\n<svg width=\"635pt\" height=\"401pt\"\n viewBox=\"0.00 0.00 634.50 401.00\" xmlns=\"http://www.w3.org/2000/svg\" xmlns:xlink=\"http://www.w3.org/1999/xlink\">\n<g id=\"graph0\" class=\"graph\" transform=\"scale(1 1) rotate(0) translate(4 397)\">\n<title>Tree</title>\n<polygon fill=\"white\" stroke=\"transparent\" points=\"-4,4 -4,-397 630.5,-397 630.5,4 -4,4\"/>\n<!-- 0 -->\n<g id=\"node1\" class=\"node\">\n<title>0</title>\n<path fill=\"#e89152\" stroke=\"black\" d=\"M361,-393C361,-393 236,-393 236,-393 230,-393 224,-387 224,-381 224,-381 224,-322 224,-322 224,-316 230,-310 236,-310 236,-310 361,-310 361,-310 367,-310 373,-316 373,-322 373,-322 373,-381 373,-381 373,-387 367,-393 361,-393\"/>\n<text text-anchor=\"start\" x=\"232\" y=\"-377.8\" font-family=\"Helvetica,sans-Serif\" font-size=\"14.00\">cons.conf.idx ≤ &#45;35.45</text>\n<text text-anchor=\"start\" x=\"263\" y=\"-362.8\" font-family=\"Helvetica,sans-Serif\" font-size=\"14.00\">gini = 0.201</text>\n<text text-anchor=\"start\" x=\"246\" y=\"-347.8\" font-family=\"Helvetica,sans-Serif\" font-size=\"14.00\">samples = 20756</text>\n<text text-anchor=\"start\" x=\"233\" y=\"-332.8\" font-family=\"Helvetica,sans-Serif\" font-size=\"14.00\">value = [29213, 3737]</text>\n<text text-anchor=\"start\" x=\"271\" y=\"-317.8\" font-family=\"Helvetica,sans-Serif\" font-size=\"14.00\">class = 0</text>\n</g>\n<!-- 1 -->\n<g id=\"node2\" class=\"node\">\n<title>1</title>\n<path fill=\"#e88e4d\" stroke=\"black\" d=\"M279,-274C279,-274 156,-274 156,-274 150,-274 144,-268 144,-262 144,-262 144,-203 144,-203 144,-197 150,-191 156,-191 156,-191 279,-191 279,-191 285,-191 291,-197 291,-203 291,-203 291,-262 291,-262 291,-268 285,-274 279,-274\"/>\n<text text-anchor=\"start\" x=\"155\" y=\"-258.8\" font-family=\"Helvetica,sans-Serif\" font-size=\"14.00\">cons.conf.idx ≤ &#45;48.3</text>\n<text text-anchor=\"start\" x=\"182\" y=\"-243.8\" font-family=\"Helvetica,sans-Serif\" font-size=\"14.00\">gini = 0.167</text>\n<text text-anchor=\"start\" x=\"165\" y=\"-228.8\" font-family=\"Helvetica,sans-Serif\" font-size=\"14.00\">samples = 19448</text>\n<text text-anchor=\"start\" x=\"152\" y=\"-213.8\" font-family=\"Helvetica,sans-Serif\" font-size=\"14.00\">value = [28017, 2841]</text>\n<text text-anchor=\"start\" x=\"190\" y=\"-198.8\" font-family=\"Helvetica,sans-Serif\" font-size=\"14.00\">class = 0</text>\n</g>\n<!-- 0&#45;&gt;1 -->\n<g id=\"edge1\" class=\"edge\">\n<title>0&#45;&gt;1</title>\n<path fill=\"none\" stroke=\"black\" d=\"M270.4,-309.91C264.24,-301.01 257.66,-291.51 251.31,-282.33\"/>\n<polygon fill=\"black\" stroke=\"black\" points=\"254.12,-280.25 245.55,-274.02 248.37,-284.24 254.12,-280.25\"/>\n<text text-anchor=\"middle\" x=\"241.08\" y=\"-294.92\" font-family=\"Helvetica,sans-Serif\" font-size=\"14.00\">True</text>\n</g>\n<!-- 1252 -->\n<g id=\"node9\" class=\"node\">\n<title>1252</title>\n<path fill=\"#f8dfcd\" stroke=\"black\" d=\"M439,-274C439,-274 322,-274 322,-274 316,-274 310,-268 310,-262 310,-262 310,-203 310,-203 310,-197 316,-191 322,-191 322,-191 439,-191 439,-191 445,-191 451,-197 451,-203 451,-203 451,-262 451,-262 451,-268 445,-274 439,-274\"/>\n<text text-anchor=\"start\" x=\"318\" y=\"-258.8\" font-family=\"Helvetica,sans-Serif\" font-size=\"14.00\">cons.conf.idx ≤ &#45;34.1</text>\n<text text-anchor=\"start\" x=\"348.5\" y=\"-243.8\" font-family=\"Helvetica,sans-Serif\" font-size=\"14.00\">gini = 0.49</text>\n<text text-anchor=\"start\" x=\"332\" y=\"-228.8\" font-family=\"Helvetica,sans-Serif\" font-size=\"14.00\">samples = 1308</text>\n<text text-anchor=\"start\" x=\"322.5\" y=\"-213.8\" font-family=\"Helvetica,sans-Serif\" font-size=\"14.00\">value = [1196, 896]</text>\n<text text-anchor=\"start\" x=\"353\" y=\"-198.8\" font-family=\"Helvetica,sans-Serif\" font-size=\"14.00\">class = 0</text>\n</g>\n<!-- 0&#45;&gt;1252 -->\n<g id=\"edge8\" class=\"edge\">\n<title>0&#45;&gt;1252</title>\n<path fill=\"none\" stroke=\"black\" d=\"M326.95,-309.91C333.18,-301.01 339.84,-291.51 346.28,-282.33\"/>\n<polygon fill=\"black\" stroke=\"black\" points=\"349.23,-284.22 352.1,-274.02 343.5,-280.2 349.23,-284.22\"/>\n<text text-anchor=\"middle\" x=\"356.43\" y=\"-294.94\" font-family=\"Helvetica,sans-Serif\" font-size=\"14.00\">False</text>\n</g>\n<!-- 2 -->\n<g id=\"node3\" class=\"node\">\n<title>2</title>\n<path fill=\"#f9e1d0\" stroke=\"black\" d=\"M113,-155C113,-155 12,-155 12,-155 6,-155 0,-149 0,-143 0,-143 0,-84 0,-84 0,-78 6,-72 12,-72 12,-72 113,-72 113,-72 119,-72 125,-78 125,-84 125,-84 125,-143 125,-143 125,-149 119,-155 113,-155\"/>\n<text text-anchor=\"start\" x=\"30.5\" y=\"-139.8\" font-family=\"Helvetica,sans-Serif\" font-size=\"14.00\">age ≤ 64.0</text>\n<text text-anchor=\"start\" x=\"27\" y=\"-124.8\" font-family=\"Helvetica,sans-Serif\" font-size=\"14.00\">gini = 0.491</text>\n<text text-anchor=\"start\" x=\"17.5\" y=\"-109.8\" font-family=\"Helvetica,sans-Serif\" font-size=\"14.00\">samples = 322</text>\n<text text-anchor=\"start\" x=\"8\" y=\"-94.8\" font-family=\"Helvetica,sans-Serif\" font-size=\"14.00\">value = [280, 214]</text>\n<text text-anchor=\"start\" x=\"35\" y=\"-79.8\" font-family=\"Helvetica,sans-Serif\" font-size=\"14.00\">class = 0</text>\n</g>\n<!-- 1&#45;&gt;2 -->\n<g id=\"edge2\" class=\"edge\">\n<title>1&#45;&gt;2</title>\n<path fill=\"none\" stroke=\"black\" d=\"M163.72,-190.91C150.98,-181.29 137.29,-170.95 124.22,-161.09\"/>\n<polygon fill=\"black\" stroke=\"black\" points=\"126.27,-158.25 116.18,-155.02 122.05,-163.84 126.27,-158.25\"/>\n</g>\n<!-- 189 -->\n<g id=\"node6\" class=\"node\">\n<title>189</title>\n<path fill=\"#e78d4c\" stroke=\"black\" d=\"M280,-155C280,-155 155,-155 155,-155 149,-155 143,-149 143,-143 143,-143 143,-84 143,-84 143,-78 149,-72 155,-72 155,-72 280,-72 280,-72 286,-72 292,-78 292,-84 292,-84 292,-143 292,-143 292,-149 286,-155 280,-155\"/>\n<text text-anchor=\"start\" x=\"151\" y=\"-139.8\" font-family=\"Helvetica,sans-Serif\" font-size=\"14.00\">cons.conf.idx ≤ &#45;36.95</text>\n<text text-anchor=\"start\" x=\"182\" y=\"-124.8\" font-family=\"Helvetica,sans-Serif\" font-size=\"14.00\">gini = 0.158</text>\n<text text-anchor=\"start\" x=\"165\" y=\"-109.8\" font-family=\"Helvetica,sans-Serif\" font-size=\"14.00\">samples = 19126</text>\n<text text-anchor=\"start\" x=\"152\" y=\"-94.8\" font-family=\"Helvetica,sans-Serif\" font-size=\"14.00\">value = [27737, 2627]</text>\n<text text-anchor=\"start\" x=\"190\" y=\"-79.8\" font-family=\"Helvetica,sans-Serif\" font-size=\"14.00\">class = 0</text>\n</g>\n<!-- 1&#45;&gt;189 -->\n<g id=\"edge5\" class=\"edge\">\n<title>1&#45;&gt;189</title>\n<path fill=\"none\" stroke=\"black\" d=\"M217.5,-190.91C217.5,-182.65 217.5,-173.86 217.5,-165.3\"/>\n<polygon fill=\"black\" stroke=\"black\" points=\"221,-165.02 217.5,-155.02 214,-165.02 221,-165.02\"/>\n</g>\n<!-- 3 -->\n<g id=\"node4\" class=\"node\">\n<title>3</title>\n<path fill=\"#c0c0c0\" stroke=\"black\" d=\"M67.5,-36C67.5,-36 37.5,-36 37.5,-36 31.5,-36 25.5,-30 25.5,-24 25.5,-24 25.5,-12 25.5,-12 25.5,-6 31.5,0 37.5,0 37.5,0 67.5,0 67.5,0 73.5,0 79.5,-6 79.5,-12 79.5,-12 79.5,-24 79.5,-24 79.5,-30 73.5,-36 67.5,-36\"/>\n<text text-anchor=\"middle\" x=\"52.5\" y=\"-14.3\" font-family=\"Helvetica,sans-Serif\" font-size=\"14.00\">(...)</text>\n</g>\n<!-- 2&#45;&gt;3 -->\n<g id=\"edge3\" class=\"edge\">\n<title>2&#45;&gt;3</title>\n<path fill=\"none\" stroke=\"black\" d=\"M58.14,-71.76C57.23,-63.24 56.29,-54.44 55.44,-46.53\"/>\n<polygon fill=\"black\" stroke=\"black\" points=\"58.91,-45.98 54.36,-36.41 51.94,-46.72 58.91,-45.98\"/>\n</g>\n<!-- 162 -->\n<g id=\"node5\" class=\"node\">\n<title>162</title>\n<path fill=\"#c0c0c0\" stroke=\"black\" d=\"M139.5,-36C139.5,-36 109.5,-36 109.5,-36 103.5,-36 97.5,-30 97.5,-24 97.5,-24 97.5,-12 97.5,-12 97.5,-6 103.5,0 109.5,0 109.5,0 139.5,0 139.5,0 145.5,0 151.5,-6 151.5,-12 151.5,-12 151.5,-24 151.5,-24 151.5,-30 145.5,-36 139.5,-36\"/>\n<text text-anchor=\"middle\" x=\"124.5\" y=\"-14.3\" font-family=\"Helvetica,sans-Serif\" font-size=\"14.00\">(...)</text>\n</g>\n<!-- 2&#45;&gt;162 -->\n<g id=\"edge4\" class=\"edge\">\n<title>2&#45;&gt;162</title>\n<path fill=\"none\" stroke=\"black\" d=\"M89.51,-71.76C95.55,-62.65 101.8,-53.24 107.31,-44.92\"/>\n<polygon fill=\"black\" stroke=\"black\" points=\"110.35,-46.67 112.96,-36.41 104.52,-42.81 110.35,-46.67\"/>\n</g>\n<!-- 190 -->\n<g id=\"node7\" class=\"node\">\n<title>190</title>\n<path fill=\"#c0c0c0\" stroke=\"black\" d=\"M221.5,-36C221.5,-36 191.5,-36 191.5,-36 185.5,-36 179.5,-30 179.5,-24 179.5,-24 179.5,-12 179.5,-12 179.5,-6 185.5,0 191.5,0 191.5,0 221.5,0 221.5,0 227.5,0 233.5,-6 233.5,-12 233.5,-12 233.5,-24 233.5,-24 233.5,-30 227.5,-36 221.5,-36\"/>\n<text text-anchor=\"middle\" x=\"206.5\" y=\"-14.3\" font-family=\"Helvetica,sans-Serif\" font-size=\"14.00\">(...)</text>\n</g>\n<!-- 189&#45;&gt;190 -->\n<g id=\"edge6\" class=\"edge\">\n<title>189&#45;&gt;190</title>\n<path fill=\"none\" stroke=\"black\" d=\"M212.71,-71.76C211.7,-63.24 210.67,-54.44 209.74,-46.53\"/>\n<polygon fill=\"black\" stroke=\"black\" points=\"213.19,-45.93 208.55,-36.41 206.24,-46.75 213.19,-45.93\"/>\n</g>\n<!-- 1109 -->\n<g id=\"node8\" class=\"node\">\n<title>1109</title>\n<path fill=\"#c0c0c0\" stroke=\"black\" d=\"M293.5,-36C293.5,-36 263.5,-36 263.5,-36 257.5,-36 251.5,-30 251.5,-24 251.5,-24 251.5,-12 251.5,-12 251.5,-6 257.5,0 263.5,0 263.5,0 293.5,0 293.5,0 299.5,0 305.5,-6 305.5,-12 305.5,-12 305.5,-24 305.5,-24 305.5,-30 299.5,-36 293.5,-36\"/>\n<text text-anchor=\"middle\" x=\"278.5\" y=\"-14.3\" font-family=\"Helvetica,sans-Serif\" font-size=\"14.00\">(...)</text>\n</g>\n<!-- 189&#45;&gt;1109 -->\n<g id=\"edge7\" class=\"edge\">\n<title>189&#45;&gt;1109</title>\n<path fill=\"none\" stroke=\"black\" d=\"M244.08,-71.76C250.02,-62.65 256.16,-53.24 261.59,-44.92\"/>\n<polygon fill=\"black\" stroke=\"black\" points=\"264.61,-46.69 267.14,-36.41 258.75,-42.87 264.61,-46.69\"/>\n</g>\n<!-- 1253 -->\n<g id=\"node10\" class=\"node\">\n<title>1253</title>\n<path fill=\"#d1e8f9\" stroke=\"black\" d=\"M439,-155C439,-155 322,-155 322,-155 316,-155 310,-149 310,-143 310,-143 310,-84 310,-84 310,-78 316,-72 322,-72 322,-72 439,-72 439,-72 445,-72 451,-78 451,-84 451,-84 451,-143 451,-143 451,-149 445,-155 439,-155\"/>\n<text text-anchor=\"start\" x=\"318\" y=\"-139.8\" font-family=\"Helvetica,sans-Serif\" font-size=\"14.00\">cons.conf.idx ≤ &#45;34.7</text>\n<text text-anchor=\"start\" x=\"345\" y=\"-124.8\" font-family=\"Helvetica,sans-Serif\" font-size=\"14.00\">gini = 0.491</text>\n<text text-anchor=\"start\" x=\"335.5\" y=\"-109.8\" font-family=\"Helvetica,sans-Serif\" font-size=\"14.00\">samples = 200</text>\n<text text-anchor=\"start\" x=\"326\" y=\"-94.8\" font-family=\"Helvetica,sans-Serif\" font-size=\"14.00\">value = [145, 189]</text>\n<text text-anchor=\"start\" x=\"353\" y=\"-79.8\" font-family=\"Helvetica,sans-Serif\" font-size=\"14.00\">class = 1</text>\n</g>\n<!-- 1252&#45;&gt;1253 -->\n<g id=\"edge9\" class=\"edge\">\n<title>1252&#45;&gt;1253</title>\n<path fill=\"none\" stroke=\"black\" d=\"M380.5,-190.91C380.5,-182.65 380.5,-173.86 380.5,-165.3\"/>\n<polygon fill=\"black\" stroke=\"black\" points=\"384,-165.02 380.5,-155.02 377,-165.02 384,-165.02\"/>\n</g>\n<!-- 1388 -->\n<g id=\"node13\" class=\"node\">\n<title>1388</title>\n<path fill=\"#f6d6be\" stroke=\"black\" d=\"M612,-155C612,-155 481,-155 481,-155 475,-155 469,-149 469,-143 469,-143 469,-84 469,-84 469,-78 475,-72 481,-72 481,-72 612,-72 612,-72 618,-72 624,-78 624,-84 624,-84 624,-143 624,-143 624,-149 618,-155 612,-155\"/>\n<text text-anchor=\"start\" x=\"477\" y=\"-139.8\" font-family=\"Helvetica,sans-Serif\" font-size=\"14.00\">cons.price.idx ≤ 92.559</text>\n<text text-anchor=\"start\" x=\"511\" y=\"-124.8\" font-family=\"Helvetica,sans-Serif\" font-size=\"14.00\">gini = 0.481</text>\n<text text-anchor=\"start\" x=\"498\" y=\"-109.8\" font-family=\"Helvetica,sans-Serif\" font-size=\"14.00\">samples = 1108</text>\n<text text-anchor=\"start\" x=\"488.5\" y=\"-94.8\" font-family=\"Helvetica,sans-Serif\" font-size=\"14.00\">value = [1051, 707]</text>\n<text text-anchor=\"start\" x=\"519\" y=\"-79.8\" font-family=\"Helvetica,sans-Serif\" font-size=\"14.00\">class = 0</text>\n</g>\n<!-- 1252&#45;&gt;1388 -->\n<g id=\"edge12\" class=\"edge\">\n<title>1252&#45;&gt;1388</title>\n<path fill=\"none\" stroke=\"black\" d=\"M438.09,-190.91C451.87,-181.2 466.68,-170.76 480.79,-160.81\"/>\n<polygon fill=\"black\" stroke=\"black\" points=\"482.85,-163.64 489.01,-155.02 478.82,-157.92 482.85,-163.64\"/>\n</g>\n<!-- 1254 -->\n<g id=\"node11\" class=\"node\">\n<title>1254</title>\n<path fill=\"#c0c0c0\" stroke=\"black\" d=\"M380.5,-36C380.5,-36 350.5,-36 350.5,-36 344.5,-36 338.5,-30 338.5,-24 338.5,-24 338.5,-12 338.5,-12 338.5,-6 344.5,0 350.5,0 350.5,0 380.5,0 380.5,0 386.5,0 392.5,-6 392.5,-12 392.5,-12 392.5,-24 392.5,-24 392.5,-30 386.5,-36 380.5,-36\"/>\n<text text-anchor=\"middle\" x=\"365.5\" y=\"-14.3\" font-family=\"Helvetica,sans-Serif\" font-size=\"14.00\">(...)</text>\n</g>\n<!-- 1253&#45;&gt;1254 -->\n<g id=\"edge10\" class=\"edge\">\n<title>1253&#45;&gt;1254</title>\n<path fill=\"none\" stroke=\"black\" d=\"M373.96,-71.76C372.6,-63.24 371.19,-54.44 369.92,-46.53\"/>\n<polygon fill=\"black\" stroke=\"black\" points=\"373.33,-45.72 368.29,-36.41 366.42,-46.83 373.33,-45.72\"/>\n</g>\n<!-- 1321 -->\n<g id=\"node12\" class=\"node\">\n<title>1321</title>\n<path fill=\"#c0c0c0\" stroke=\"black\" d=\"M452.5,-36C452.5,-36 422.5,-36 422.5,-36 416.5,-36 410.5,-30 410.5,-24 410.5,-24 410.5,-12 410.5,-12 410.5,-6 416.5,0 422.5,0 422.5,0 452.5,0 452.5,0 458.5,0 464.5,-6 464.5,-12 464.5,-12 464.5,-24 464.5,-24 464.5,-30 458.5,-36 452.5,-36\"/>\n<text text-anchor=\"middle\" x=\"437.5\" y=\"-14.3\" font-family=\"Helvetica,sans-Serif\" font-size=\"14.00\">(...)</text>\n</g>\n<!-- 1253&#45;&gt;1321 -->\n<g id=\"edge11\" class=\"edge\">\n<title>1253&#45;&gt;1321</title>\n<path fill=\"none\" stroke=\"black\" d=\"M405.34,-71.76C410.83,-62.75 416.51,-53.44 421.53,-45.19\"/>\n<polygon fill=\"black\" stroke=\"black\" points=\"424.67,-46.77 426.89,-36.41 418.7,-43.12 424.67,-46.77\"/>\n</g>\n<!-- 1389 -->\n<g id=\"node14\" class=\"node\">\n<title>1389</title>\n<path fill=\"#c0c0c0\" stroke=\"black\" d=\"M542.5,-36C542.5,-36 512.5,-36 512.5,-36 506.5,-36 500.5,-30 500.5,-24 500.5,-24 500.5,-12 500.5,-12 500.5,-6 506.5,0 512.5,0 512.5,0 542.5,0 542.5,0 548.5,0 554.5,-6 554.5,-12 554.5,-12 554.5,-24 554.5,-24 554.5,-30 548.5,-36 542.5,-36\"/>\n<text text-anchor=\"middle\" x=\"527.5\" y=\"-14.3\" font-family=\"Helvetica,sans-Serif\" font-size=\"14.00\">(...)</text>\n</g>\n<!-- 1388&#45;&gt;1389 -->\n<g id=\"edge13\" class=\"edge\">\n<title>1388&#45;&gt;1389</title>\n<path fill=\"none\" stroke=\"black\" d=\"M538.22,-71.76C536.47,-63.14 534.66,-54.24 533.04,-46.26\"/>\n<polygon fill=\"black\" stroke=\"black\" points=\"536.46,-45.51 531.04,-36.41 529.6,-46.9 536.46,-45.51\"/>\n</g>\n<!-- 1774 -->\n<g id=\"node15\" class=\"node\">\n<title>1774</title>\n<path fill=\"#c0c0c0\" stroke=\"black\" d=\"M614.5,-36C614.5,-36 584.5,-36 584.5,-36 578.5,-36 572.5,-30 572.5,-24 572.5,-24 572.5,-12 572.5,-12 572.5,-6 578.5,0 584.5,0 584.5,0 614.5,0 614.5,0 620.5,0 626.5,-6 626.5,-12 626.5,-12 626.5,-24 626.5,-24 626.5,-30 620.5,-36 614.5,-36\"/>\n<text text-anchor=\"middle\" x=\"599.5\" y=\"-14.3\" font-family=\"Helvetica,sans-Serif\" font-size=\"14.00\">(...)</text>\n</g>\n<!-- 1388&#45;&gt;1774 -->\n<g id=\"edge14\" class=\"edge\">\n<title>1388&#45;&gt;1774</title>\n<path fill=\"none\" stroke=\"black\" d=\"M569.59,-71.76C574.7,-62.75 579.98,-53.44 584.65,-45.19\"/>\n<polygon fill=\"black\" stroke=\"black\" points=\"587.75,-46.83 589.63,-36.41 581.66,-43.38 587.75,-46.83\"/>\n</g>\n</g>\n</svg>\n",
            "text/plain": [
              "<graphviz.sources.Source at 0x7a5deab23a90>"
            ]
          },
          "metadata": {}
        },
        {
          "output_type": "display_data",
          "data": {
            "image/svg+xml": "<?xml version=\"1.0\" encoding=\"UTF-8\" standalone=\"no\"?>\n<!DOCTYPE svg PUBLIC \"-//W3C//DTD SVG 1.1//EN\"\n \"http://www.w3.org/Graphics/SVG/1.1/DTD/svg11.dtd\">\n<!-- Generated by graphviz version 2.43.0 (0)\n -->\n<!-- Title: Tree Pages: 1 -->\n<svg width=\"664pt\" height=\"401pt\"\n viewBox=\"0.00 0.00 663.50 401.00\" xmlns=\"http://www.w3.org/2000/svg\" xmlns:xlink=\"http://www.w3.org/1999/xlink\">\n<g id=\"graph0\" class=\"graph\" transform=\"scale(1 1) rotate(0) translate(4 397)\">\n<title>Tree</title>\n<polygon fill=\"white\" stroke=\"transparent\" points=\"-4,4 -4,-397 659.5,-397 659.5,4 -4,4\"/>\n<!-- 0 -->\n<g id=\"node1\" class=\"node\">\n<title>0</title>\n<path fill=\"#e89152\" stroke=\"black\" d=\"M390,-393C390,-393 265,-393 265,-393 259,-393 253,-387 253,-381 253,-381 253,-322 253,-322 253,-316 259,-310 265,-310 265,-310 390,-310 390,-310 396,-310 402,-316 402,-322 402,-322 402,-381 402,-381 402,-387 396,-393 390,-393\"/>\n<text text-anchor=\"start\" x=\"261\" y=\"-377.8\" font-family=\"Helvetica,sans-Serif\" font-size=\"14.00\">cons.conf.idx ≤ &#45;35.45</text>\n<text text-anchor=\"start\" x=\"299.5\" y=\"-362.8\" font-family=\"Helvetica,sans-Serif\" font-size=\"14.00\">gini = 0.2</text>\n<text text-anchor=\"start\" x=\"275\" y=\"-347.8\" font-family=\"Helvetica,sans-Serif\" font-size=\"14.00\">samples = 20812</text>\n<text text-anchor=\"start\" x=\"262\" y=\"-332.8\" font-family=\"Helvetica,sans-Serif\" font-size=\"14.00\">value = [29235, 3715]</text>\n<text text-anchor=\"start\" x=\"300\" y=\"-317.8\" font-family=\"Helvetica,sans-Serif\" font-size=\"14.00\">class = 0</text>\n</g>\n<!-- 1 -->\n<g id=\"node2\" class=\"node\">\n<title>1</title>\n<path fill=\"#e88e4d\" stroke=\"black\" d=\"M310,-274C310,-274 179,-274 179,-274 173,-274 167,-268 167,-262 167,-262 167,-203 167,-203 167,-197 173,-191 179,-191 179,-191 310,-191 310,-191 316,-191 322,-197 322,-203 322,-203 322,-262 322,-262 322,-268 316,-274 310,-274\"/>\n<text text-anchor=\"start\" x=\"175\" y=\"-258.8\" font-family=\"Helvetica,sans-Serif\" font-size=\"14.00\">cons.price.idx ≤ 94.533</text>\n<text text-anchor=\"start\" x=\"209\" y=\"-243.8\" font-family=\"Helvetica,sans-Serif\" font-size=\"14.00\">gini = 0.165</text>\n<text text-anchor=\"start\" x=\"192\" y=\"-228.8\" font-family=\"Helvetica,sans-Serif\" font-size=\"14.00\">samples = 19472</text>\n<text text-anchor=\"start\" x=\"179\" y=\"-213.8\" font-family=\"Helvetica,sans-Serif\" font-size=\"14.00\">value = [28009, 2793]</text>\n<text text-anchor=\"start\" x=\"217\" y=\"-198.8\" font-family=\"Helvetica,sans-Serif\" font-size=\"14.00\">class = 0</text>\n</g>\n<!-- 0&#45;&gt;1 -->\n<g id=\"edge1\" class=\"edge\">\n<title>0&#45;&gt;1</title>\n<path fill=\"none\" stroke=\"black\" d=\"M298.7,-309.91C292.39,-301.01 285.65,-291.51 279.14,-282.33\"/>\n<polygon fill=\"black\" stroke=\"black\" points=\"281.89,-280.15 273.25,-274.02 276.18,-284.2 281.89,-280.15\"/>\n<text text-anchor=\"middle\" x=\"269.06\" y=\"-294.97\" font-family=\"Helvetica,sans-Serif\" font-size=\"14.00\">True</text>\n</g>\n<!-- 1274 -->\n<g id=\"node9\" class=\"node\">\n<title>1274</title>\n<path fill=\"#f9e0ce\" stroke=\"black\" d=\"M464.5,-274C464.5,-274 356.5,-274 356.5,-274 350.5,-274 344.5,-268 344.5,-262 344.5,-262 344.5,-203 344.5,-203 344.5,-197 350.5,-191 356.5,-191 356.5,-191 464.5,-191 464.5,-191 470.5,-191 476.5,-197 476.5,-203 476.5,-203 476.5,-262 476.5,-262 476.5,-268 470.5,-274 464.5,-274\"/>\n<text text-anchor=\"start\" x=\"378.5\" y=\"-258.8\" font-family=\"Helvetica,sans-Serif\" font-size=\"14.00\">age ≤ 31.5</text>\n<text text-anchor=\"start\" x=\"378.5\" y=\"-243.8\" font-family=\"Helvetica,sans-Serif\" font-size=\"14.00\">gini = 0.49</text>\n<text text-anchor=\"start\" x=\"362\" y=\"-228.8\" font-family=\"Helvetica,sans-Serif\" font-size=\"14.00\">samples = 1340</text>\n<text text-anchor=\"start\" x=\"352.5\" y=\"-213.8\" font-family=\"Helvetica,sans-Serif\" font-size=\"14.00\">value = [1226, 922]</text>\n<text text-anchor=\"start\" x=\"383\" y=\"-198.8\" font-family=\"Helvetica,sans-Serif\" font-size=\"14.00\">class = 0</text>\n</g>\n<!-- 0&#45;&gt;1274 -->\n<g id=\"edge8\" class=\"edge\">\n<title>0&#45;&gt;1274</title>\n<path fill=\"none\" stroke=\"black\" d=\"M356.3,-309.91C362.61,-301.01 369.35,-291.51 375.86,-282.33\"/>\n<polygon fill=\"black\" stroke=\"black\" points=\"378.82,-284.2 381.75,-274.02 373.11,-280.15 378.82,-284.2\"/>\n<text text-anchor=\"middle\" x=\"385.94\" y=\"-294.97\" font-family=\"Helvetica,sans-Serif\" font-size=\"14.00\">False</text>\n</g>\n<!-- 2 -->\n<g id=\"node3\" class=\"node\">\n<title>2</title>\n<path fill=\"#e88d4c\" stroke=\"black\" d=\"M137,-155C137,-155 12,-155 12,-155 6,-155 0,-149 0,-143 0,-143 0,-84 0,-84 0,-78 6,-72 12,-72 12,-72 137,-72 137,-72 143,-72 149,-78 149,-84 149,-84 149,-143 149,-143 149,-149 143,-155 137,-155\"/>\n<text text-anchor=\"start\" x=\"8\" y=\"-139.8\" font-family=\"Helvetica,sans-Serif\" font-size=\"14.00\">cons.conf.idx ≤ &#45;36.95</text>\n<text text-anchor=\"start\" x=\"42.5\" y=\"-124.8\" font-family=\"Helvetica,sans-Serif\" font-size=\"14.00\">gini = 0.16</text>\n<text text-anchor=\"start\" x=\"22\" y=\"-109.8\" font-family=\"Helvetica,sans-Serif\" font-size=\"14.00\">samples = 19314</text>\n<text text-anchor=\"start\" x=\"9\" y=\"-94.8\" font-family=\"Helvetica,sans-Serif\" font-size=\"14.00\">value = [27885, 2684]</text>\n<text text-anchor=\"start\" x=\"47\" y=\"-79.8\" font-family=\"Helvetica,sans-Serif\" font-size=\"14.00\">class = 0</text>\n</g>\n<!-- 1&#45;&gt;2 -->\n<g id=\"edge2\" class=\"edge\">\n<title>1&#45;&gt;2</title>\n<path fill=\"none\" stroke=\"black\" d=\"M185.52,-190.91C171.41,-181.2 156.24,-170.76 141.79,-160.81\"/>\n<polygon fill=\"black\" stroke=\"black\" points=\"143.6,-157.81 133.38,-155.02 139.63,-163.57 143.6,-157.81\"/>\n</g>\n<!-- 1147 -->\n<g id=\"node6\" class=\"node\">\n<title>1147</title>\n<path fill=\"#fcf0e7\" stroke=\"black\" d=\"M310,-155C310,-155 179,-155 179,-155 173,-155 167,-149 167,-143 167,-143 167,-84 167,-84 167,-78 173,-72 179,-72 179,-72 310,-72 310,-72 316,-72 322,-78 322,-84 322,-84 322,-143 322,-143 322,-149 316,-155 310,-155\"/>\n<text text-anchor=\"start\" x=\"175\" y=\"-139.8\" font-family=\"Helvetica,sans-Serif\" font-size=\"14.00\">cons.price.idx ≤ 94.684</text>\n<text text-anchor=\"start\" x=\"209\" y=\"-124.8\" font-family=\"Helvetica,sans-Serif\" font-size=\"14.00\">gini = 0.498</text>\n<text text-anchor=\"start\" x=\"199.5\" y=\"-109.8\" font-family=\"Helvetica,sans-Serif\" font-size=\"14.00\">samples = 158</text>\n<text text-anchor=\"start\" x=\"190\" y=\"-94.8\" font-family=\"Helvetica,sans-Serif\" font-size=\"14.00\">value = [124, 109]</text>\n<text text-anchor=\"start\" x=\"217\" y=\"-79.8\" font-family=\"Helvetica,sans-Serif\" font-size=\"14.00\">class = 0</text>\n</g>\n<!-- 1&#45;&gt;1147 -->\n<g id=\"edge5\" class=\"edge\">\n<title>1&#45;&gt;1147</title>\n<path fill=\"none\" stroke=\"black\" d=\"M244.5,-190.91C244.5,-182.65 244.5,-173.86 244.5,-165.3\"/>\n<polygon fill=\"black\" stroke=\"black\" points=\"248,-165.02 244.5,-155.02 241,-165.02 248,-165.02\"/>\n</g>\n<!-- 3 -->\n<g id=\"node4\" class=\"node\">\n<title>3</title>\n<path fill=\"#c0c0c0\" stroke=\"black\" d=\"M88.5,-36C88.5,-36 58.5,-36 58.5,-36 52.5,-36 46.5,-30 46.5,-24 46.5,-24 46.5,-12 46.5,-12 46.5,-6 52.5,0 58.5,0 58.5,0 88.5,0 88.5,0 94.5,0 100.5,-6 100.5,-12 100.5,-12 100.5,-24 100.5,-24 100.5,-30 94.5,-36 88.5,-36\"/>\n<text text-anchor=\"middle\" x=\"73.5\" y=\"-14.3\" font-family=\"Helvetica,sans-Serif\" font-size=\"14.00\">(...)</text>\n</g>\n<!-- 2&#45;&gt;3 -->\n<g id=\"edge3\" class=\"edge\">\n<title>2&#45;&gt;3</title>\n<path fill=\"none\" stroke=\"black\" d=\"M74.06,-71.76C73.97,-63.24 73.88,-54.44 73.79,-46.53\"/>\n<polygon fill=\"black\" stroke=\"black\" points=\"77.29,-46.37 73.69,-36.41 70.29,-46.44 77.29,-46.37\"/>\n</g>\n<!-- 1002 -->\n<g id=\"node5\" class=\"node\">\n<title>1002</title>\n<path fill=\"#c0c0c0\" stroke=\"black\" d=\"M160.5,-36C160.5,-36 130.5,-36 130.5,-36 124.5,-36 118.5,-30 118.5,-24 118.5,-24 118.5,-12 118.5,-12 118.5,-6 124.5,0 130.5,0 130.5,0 160.5,0 160.5,0 166.5,0 172.5,-6 172.5,-12 172.5,-12 172.5,-24 172.5,-24 172.5,-30 166.5,-36 160.5,-36\"/>\n<text text-anchor=\"middle\" x=\"145.5\" y=\"-14.3\" font-family=\"Helvetica,sans-Serif\" font-size=\"14.00\">(...)</text>\n</g>\n<!-- 2&#45;&gt;1002 -->\n<g id=\"edge4\" class=\"edge\">\n<title>2&#45;&gt;1002</title>\n<path fill=\"none\" stroke=\"black\" d=\"M105.44,-71.76C112.5,-62.46 119.81,-52.84 126.22,-44.4\"/>\n<polygon fill=\"black\" stroke=\"black\" points=\"129.02,-46.49 132.28,-36.41 123.45,-42.25 129.02,-46.49\"/>\n</g>\n<!-- 1148 -->\n<g id=\"node7\" class=\"node\">\n<title>1148</title>\n<path fill=\"#c0c0c0\" stroke=\"black\" d=\"M245.5,-36C245.5,-36 215.5,-36 215.5,-36 209.5,-36 203.5,-30 203.5,-24 203.5,-24 203.5,-12 203.5,-12 203.5,-6 209.5,0 215.5,0 215.5,0 245.5,0 245.5,0 251.5,0 257.5,-6 257.5,-12 257.5,-12 257.5,-24 257.5,-24 257.5,-30 251.5,-36 245.5,-36\"/>\n<text text-anchor=\"middle\" x=\"230.5\" y=\"-14.3\" font-family=\"Helvetica,sans-Serif\" font-size=\"14.00\">(...)</text>\n</g>\n<!-- 1147&#45;&gt;1148 -->\n<g id=\"edge6\" class=\"edge\">\n<title>1147&#45;&gt;1148</title>\n<path fill=\"none\" stroke=\"black\" d=\"M238.4,-71.76C237.12,-63.24 235.81,-54.44 234.62,-46.53\"/>\n<polygon fill=\"black\" stroke=\"black\" points=\"238.05,-45.78 233.11,-36.41 231.13,-46.81 238.05,-45.78\"/>\n</g>\n<!-- 1225 -->\n<g id=\"node8\" class=\"node\">\n<title>1225</title>\n<path fill=\"#c0c0c0\" stroke=\"black\" d=\"M317.5,-36C317.5,-36 287.5,-36 287.5,-36 281.5,-36 275.5,-30 275.5,-24 275.5,-24 275.5,-12 275.5,-12 275.5,-6 281.5,0 287.5,0 287.5,0 317.5,0 317.5,0 323.5,0 329.5,-6 329.5,-12 329.5,-12 329.5,-24 329.5,-24 329.5,-30 323.5,-36 317.5,-36\"/>\n<text text-anchor=\"middle\" x=\"302.5\" y=\"-14.3\" font-family=\"Helvetica,sans-Serif\" font-size=\"14.00\">(...)</text>\n</g>\n<!-- 1147&#45;&gt;1225 -->\n<g id=\"edge7\" class=\"edge\">\n<title>1147&#45;&gt;1225</title>\n<path fill=\"none\" stroke=\"black\" d=\"M269.77,-71.76C275.42,-62.65 281.26,-53.24 286.42,-44.92\"/>\n<polygon fill=\"black\" stroke=\"black\" points=\"289.41,-46.75 291.7,-36.41 283.46,-43.06 289.41,-46.75\"/>\n</g>\n<!-- 1275 -->\n<g id=\"node10\" class=\"node\">\n<title>1275</title>\n<path fill=\"#fdf5ef\" stroke=\"black\" d=\"M469,-155C469,-155 352,-155 352,-155 346,-155 340,-149 340,-143 340,-143 340,-84 340,-84 340,-78 346,-72 352,-72 352,-72 469,-72 469,-72 475,-72 481,-78 481,-84 481,-84 481,-143 481,-143 481,-149 475,-155 469,-155\"/>\n<text text-anchor=\"start\" x=\"348\" y=\"-139.8\" font-family=\"Helvetica,sans-Serif\" font-size=\"14.00\">cons.conf.idx ≤ &#45;32.2</text>\n<text text-anchor=\"start\" x=\"375\" y=\"-124.8\" font-family=\"Helvetica,sans-Serif\" font-size=\"14.00\">gini = 0.499</text>\n<text text-anchor=\"start\" x=\"365.5\" y=\"-109.8\" font-family=\"Helvetica,sans-Serif\" font-size=\"14.00\">samples = 353</text>\n<text text-anchor=\"start\" x=\"356\" y=\"-94.8\" font-family=\"Helvetica,sans-Serif\" font-size=\"14.00\">value = [305, 280]</text>\n<text text-anchor=\"start\" x=\"383\" y=\"-79.8\" font-family=\"Helvetica,sans-Serif\" font-size=\"14.00\">class = 0</text>\n</g>\n<!-- 1274&#45;&gt;1275 -->\n<g id=\"edge9\" class=\"edge\">\n<title>1274&#45;&gt;1275</title>\n<path fill=\"none\" stroke=\"black\" d=\"M410.5,-190.91C410.5,-182.65 410.5,-173.86 410.5,-165.3\"/>\n<polygon fill=\"black\" stroke=\"black\" points=\"414,-165.02 410.5,-155.02 407,-165.02 414,-165.02\"/>\n</g>\n<!-- 1440 -->\n<g id=\"node13\" class=\"node\">\n<title>1440</title>\n<path fill=\"#f7d9c3\" stroke=\"black\" d=\"M642,-155C642,-155 511,-155 511,-155 505,-155 499,-149 499,-143 499,-143 499,-84 499,-84 499,-78 505,-72 511,-72 511,-72 642,-72 642,-72 648,-72 654,-78 654,-84 654,-84 654,-143 654,-143 654,-149 648,-155 642,-155\"/>\n<text text-anchor=\"start\" x=\"507\" y=\"-139.8\" font-family=\"Helvetica,sans-Serif\" font-size=\"14.00\">cons.price.idx ≤ 92.681</text>\n<text text-anchor=\"start\" x=\"541\" y=\"-124.8\" font-family=\"Helvetica,sans-Serif\" font-size=\"14.00\">gini = 0.484</text>\n<text text-anchor=\"start\" x=\"531.5\" y=\"-109.8\" font-family=\"Helvetica,sans-Serif\" font-size=\"14.00\">samples = 987</text>\n<text text-anchor=\"start\" x=\"522\" y=\"-94.8\" font-family=\"Helvetica,sans-Serif\" font-size=\"14.00\">value = [921, 642]</text>\n<text text-anchor=\"start\" x=\"549\" y=\"-79.8\" font-family=\"Helvetica,sans-Serif\" font-size=\"14.00\">class = 0</text>\n</g>\n<!-- 1274&#45;&gt;1440 -->\n<g id=\"edge12\" class=\"edge\">\n<title>1274&#45;&gt;1440</title>\n<path fill=\"none\" stroke=\"black\" d=\"M468.09,-190.91C481.87,-181.2 496.68,-170.76 510.79,-160.81\"/>\n<polygon fill=\"black\" stroke=\"black\" points=\"512.85,-163.64 519.01,-155.02 508.82,-157.92 512.85,-163.64\"/>\n</g>\n<!-- 1276 -->\n<g id=\"node11\" class=\"node\">\n<title>1276</title>\n<path fill=\"#c0c0c0\" stroke=\"black\" d=\"M407.5,-36C407.5,-36 377.5,-36 377.5,-36 371.5,-36 365.5,-30 365.5,-24 365.5,-24 365.5,-12 365.5,-12 365.5,-6 371.5,0 377.5,0 377.5,0 407.5,0 407.5,0 413.5,0 419.5,-6 419.5,-12 419.5,-12 419.5,-24 419.5,-24 419.5,-30 413.5,-36 407.5,-36\"/>\n<text text-anchor=\"middle\" x=\"392.5\" y=\"-14.3\" font-family=\"Helvetica,sans-Serif\" font-size=\"14.00\">(...)</text>\n</g>\n<!-- 1275&#45;&gt;1276 -->\n<g id=\"edge10\" class=\"edge\">\n<title>1275&#45;&gt;1276</title>\n<path fill=\"none\" stroke=\"black\" d=\"M402.66,-71.76C401,-63.14 399.28,-54.24 397.75,-46.26\"/>\n<polygon fill=\"black\" stroke=\"black\" points=\"401.18,-45.56 395.85,-36.41 394.3,-46.89 401.18,-45.56\"/>\n</g>\n<!-- 1351 -->\n<g id=\"node12\" class=\"node\">\n<title>1351</title>\n<path fill=\"#c0c0c0\" stroke=\"black\" d=\"M479.5,-36C479.5,-36 449.5,-36 449.5,-36 443.5,-36 437.5,-30 437.5,-24 437.5,-24 437.5,-12 437.5,-12 437.5,-6 443.5,0 449.5,0 449.5,0 479.5,0 479.5,0 485.5,0 491.5,-6 491.5,-12 491.5,-12 491.5,-24 491.5,-24 491.5,-30 485.5,-36 479.5,-36\"/>\n<text text-anchor=\"middle\" x=\"464.5\" y=\"-14.3\" font-family=\"Helvetica,sans-Serif\" font-size=\"14.00\">(...)</text>\n</g>\n<!-- 1275&#45;&gt;1351 -->\n<g id=\"edge11\" class=\"edge\">\n<title>1275&#45;&gt;1351</title>\n<path fill=\"none\" stroke=\"black\" d=\"M434.03,-71.76C439.23,-62.75 444.61,-53.44 449.37,-45.19\"/>\n<polygon fill=\"black\" stroke=\"black\" points=\"452.48,-46.82 454.45,-36.41 446.42,-43.31 452.48,-46.82\"/>\n</g>\n<!-- 1441 -->\n<g id=\"node14\" class=\"node\">\n<title>1441</title>\n<path fill=\"#c0c0c0\" stroke=\"black\" d=\"M571.5,-36C571.5,-36 541.5,-36 541.5,-36 535.5,-36 529.5,-30 529.5,-24 529.5,-24 529.5,-12 529.5,-12 529.5,-6 535.5,0 541.5,0 541.5,0 571.5,0 571.5,0 577.5,0 583.5,-6 583.5,-12 583.5,-12 583.5,-24 583.5,-24 583.5,-30 577.5,-36 571.5,-36\"/>\n<text text-anchor=\"middle\" x=\"556.5\" y=\"-14.3\" font-family=\"Helvetica,sans-Serif\" font-size=\"14.00\">(...)</text>\n</g>\n<!-- 1440&#45;&gt;1441 -->\n<g id=\"edge13\" class=\"edge\">\n<title>1440&#45;&gt;1441</title>\n<path fill=\"none\" stroke=\"black\" d=\"M567.79,-71.76C565.94,-63.14 564.04,-54.24 562.33,-46.26\"/>\n<polygon fill=\"black\" stroke=\"black\" points=\"565.74,-45.45 560.22,-36.41 558.89,-46.92 565.74,-45.45\"/>\n</g>\n<!-- 1802 -->\n<g id=\"node15\" class=\"node\">\n<title>1802</title>\n<path fill=\"#c0c0c0\" stroke=\"black\" d=\"M643.5,-36C643.5,-36 613.5,-36 613.5,-36 607.5,-36 601.5,-30 601.5,-24 601.5,-24 601.5,-12 601.5,-12 601.5,-6 607.5,0 613.5,0 613.5,0 643.5,0 643.5,0 649.5,0 655.5,-6 655.5,-12 655.5,-12 655.5,-24 655.5,-24 655.5,-30 649.5,-36 643.5,-36\"/>\n<text text-anchor=\"middle\" x=\"628.5\" y=\"-14.3\" font-family=\"Helvetica,sans-Serif\" font-size=\"14.00\">(...)</text>\n</g>\n<!-- 1440&#45;&gt;1802 -->\n<g id=\"edge14\" class=\"edge\">\n<title>1440&#45;&gt;1802</title>\n<path fill=\"none\" stroke=\"black\" d=\"M599.16,-71.76C604.17,-62.75 609.35,-53.44 613.93,-45.19\"/>\n<polygon fill=\"black\" stroke=\"black\" points=\"617.02,-46.85 618.82,-36.41 610.9,-43.44 617.02,-46.85\"/>\n</g>\n</g>\n</svg>\n",
            "text/plain": [
              "<graphviz.sources.Source at 0x7a5deab237f0>"
            ]
          },
          "metadata": {}
        },
        {
          "output_type": "display_data",
          "data": {
            "image/svg+xml": "<?xml version=\"1.0\" encoding=\"UTF-8\" standalone=\"no\"?>\n<!DOCTYPE svg PUBLIC \"-//W3C//DTD SVG 1.1//EN\"\n \"http://www.w3.org/Graphics/SVG/1.1/DTD/svg11.dtd\">\n<!-- Generated by graphviz version 2.43.0 (0)\n -->\n<!-- Title: Tree Pages: 1 -->\n<svg width=\"676pt\" height=\"401pt\"\n viewBox=\"0.00 0.00 676.00 401.00\" xmlns=\"http://www.w3.org/2000/svg\" xmlns:xlink=\"http://www.w3.org/1999/xlink\">\n<g id=\"graph0\" class=\"graph\" transform=\"scale(1 1) rotate(0) translate(4 397)\">\n<title>Tree</title>\n<polygon fill=\"white\" stroke=\"transparent\" points=\"-4,4 -4,-397 672,-397 672,4 -4,4\"/>\n<!-- 0 -->\n<g id=\"node1\" class=\"node\">\n<title>0</title>\n<path fill=\"#e89153\" stroke=\"black\" d=\"M398,-393C398,-393 273,-393 273,-393 267,-393 261,-387 261,-381 261,-381 261,-322 261,-322 261,-316 267,-310 273,-310 273,-310 398,-310 398,-310 404,-310 410,-316 410,-322 410,-322 410,-381 410,-381 410,-387 404,-393 398,-393\"/>\n<text text-anchor=\"start\" x=\"269\" y=\"-377.8\" font-family=\"Helvetica,sans-Serif\" font-size=\"14.00\">cons.conf.idx ≤ &#45;35.45</text>\n<text text-anchor=\"start\" x=\"300\" y=\"-362.8\" font-family=\"Helvetica,sans-Serif\" font-size=\"14.00\">gini = 0.203</text>\n<text text-anchor=\"start\" x=\"283\" y=\"-347.8\" font-family=\"Helvetica,sans-Serif\" font-size=\"14.00\">samples = 20774</text>\n<text text-anchor=\"start\" x=\"270\" y=\"-332.8\" font-family=\"Helvetica,sans-Serif\" font-size=\"14.00\">value = [29166, 3784]</text>\n<text text-anchor=\"start\" x=\"308\" y=\"-317.8\" font-family=\"Helvetica,sans-Serif\" font-size=\"14.00\">class = 0</text>\n</g>\n<!-- 1 -->\n<g id=\"node2\" class=\"node\">\n<title>1</title>\n<path fill=\"#e88e4e\" stroke=\"black\" d=\"M312,-274C312,-274 189,-274 189,-274 183,-274 177,-268 177,-262 177,-262 177,-203 177,-203 177,-197 183,-191 189,-191 189,-191 312,-191 312,-191 318,-191 324,-197 324,-203 324,-203 324,-262 324,-262 324,-268 318,-274 312,-274\"/>\n<text text-anchor=\"start\" x=\"218.5\" y=\"-258.8\" font-family=\"Helvetica,sans-Serif\" font-size=\"14.00\">age ≤ 60.5</text>\n<text text-anchor=\"start\" x=\"215\" y=\"-243.8\" font-family=\"Helvetica,sans-Serif\" font-size=\"14.00\">gini = 0.172</text>\n<text text-anchor=\"start\" x=\"198\" y=\"-228.8\" font-family=\"Helvetica,sans-Serif\" font-size=\"14.00\">samples = 19454</text>\n<text text-anchor=\"start\" x=\"185\" y=\"-213.8\" font-family=\"Helvetica,sans-Serif\" font-size=\"14.00\">value = [27946, 2925]</text>\n<text text-anchor=\"start\" x=\"223\" y=\"-198.8\" font-family=\"Helvetica,sans-Serif\" font-size=\"14.00\">class = 0</text>\n</g>\n<!-- 0&#45;&gt;1 -->\n<g id=\"edge1\" class=\"edge\">\n<title>0&#45;&gt;1</title>\n<path fill=\"none\" stroke=\"black\" d=\"M306.01,-309.91C299.55,-301.01 292.64,-291.51 285.98,-282.33\"/>\n<polygon fill=\"black\" stroke=\"black\" points=\"288.65,-280.05 279.94,-274.02 282.98,-284.17 288.65,-280.05\"/>\n<text text-anchor=\"middle\" x=\"276.03\" y=\"-295.01\" font-family=\"Helvetica,sans-Serif\" font-size=\"14.00\">True</text>\n</g>\n<!-- 1274 -->\n<g id=\"node9\" class=\"node\">\n<title>1274</title>\n<path fill=\"#f7dac4\" stroke=\"black\" d=\"M486,-274C486,-274 355,-274 355,-274 349,-274 343,-268 343,-262 343,-262 343,-203 343,-203 343,-197 349,-191 355,-191 355,-191 486,-191 486,-191 492,-191 498,-197 498,-203 498,-203 498,-262 498,-262 498,-268 492,-274 486,-274\"/>\n<text text-anchor=\"start\" x=\"351\" y=\"-258.8\" font-family=\"Helvetica,sans-Serif\" font-size=\"14.00\">cons.price.idx ≤ 92.559</text>\n<text text-anchor=\"start\" x=\"385\" y=\"-243.8\" font-family=\"Helvetica,sans-Serif\" font-size=\"14.00\">gini = 0.485</text>\n<text text-anchor=\"start\" x=\"372\" y=\"-228.8\" font-family=\"Helvetica,sans-Serif\" font-size=\"14.00\">samples = 1320</text>\n<text text-anchor=\"start\" x=\"362.5\" y=\"-213.8\" font-family=\"Helvetica,sans-Serif\" font-size=\"14.00\">value = [1220, 859]</text>\n<text text-anchor=\"start\" x=\"393\" y=\"-198.8\" font-family=\"Helvetica,sans-Serif\" font-size=\"14.00\">class = 0</text>\n</g>\n<!-- 0&#45;&gt;1274 -->\n<g id=\"edge8\" class=\"edge\">\n<title>0&#45;&gt;1274</title>\n<path fill=\"none\" stroke=\"black\" d=\"M364.99,-309.91C371.45,-301.01 378.36,-291.51 385.02,-282.33\"/>\n<polygon fill=\"black\" stroke=\"black\" points=\"388.02,-284.17 391.06,-274.02 382.35,-280.05 388.02,-284.17\"/>\n<text text-anchor=\"middle\" x=\"394.97\" y=\"-295.01\" font-family=\"Helvetica,sans-Serif\" font-size=\"14.00\">False</text>\n</g>\n<!-- 2 -->\n<g id=\"node3\" class=\"node\">\n<title>2</title>\n<path fill=\"#e88d4d\" stroke=\"black\" d=\"M143,-155C143,-155 12,-155 12,-155 6,-155 0,-149 0,-143 0,-143 0,-84 0,-84 0,-78 6,-72 12,-72 12,-72 143,-72 143,-72 149,-72 155,-78 155,-84 155,-84 155,-143 155,-143 155,-149 149,-155 143,-155\"/>\n<text text-anchor=\"start\" x=\"8\" y=\"-139.8\" font-family=\"Helvetica,sans-Serif\" font-size=\"14.00\">cons.price.idx ≤ 92.868</text>\n<text text-anchor=\"start\" x=\"42\" y=\"-124.8\" font-family=\"Helvetica,sans-Serif\" font-size=\"14.00\">gini = 0.164</text>\n<text text-anchor=\"start\" x=\"25\" y=\"-109.8\" font-family=\"Helvetica,sans-Serif\" font-size=\"14.00\">samples = 19238</text>\n<text text-anchor=\"start\" x=\"12\" y=\"-94.8\" font-family=\"Helvetica,sans-Serif\" font-size=\"14.00\">value = [27767, 2751]</text>\n<text text-anchor=\"start\" x=\"50\" y=\"-79.8\" font-family=\"Helvetica,sans-Serif\" font-size=\"14.00\">class = 0</text>\n</g>\n<!-- 1&#45;&gt;2 -->\n<g id=\"edge2\" class=\"edge\">\n<title>1&#45;&gt;2</title>\n<path fill=\"none\" stroke=\"black\" d=\"M190.48,-190.91C176.12,-181.2 160.69,-170.76 145.98,-160.81\"/>\n<polygon fill=\"black\" stroke=\"black\" points=\"147.66,-157.72 137.42,-155.02 143.74,-163.52 147.66,-157.72\"/>\n</g>\n<!-- 1099 -->\n<g id=\"node6\" class=\"node\">\n<title>1099</title>\n<path fill=\"#fefbf9\" stroke=\"black\" d=\"M316,-155C316,-155 185,-155 185,-155 179,-155 173,-149 173,-143 173,-143 173,-84 173,-84 173,-78 179,-72 185,-72 185,-72 316,-72 316,-72 322,-72 328,-78 328,-84 328,-84 328,-143 328,-143 328,-149 322,-155 316,-155\"/>\n<text text-anchor=\"start\" x=\"181\" y=\"-139.8\" font-family=\"Helvetica,sans-Serif\" font-size=\"14.00\">cons.price.idx ≤ 93.475</text>\n<text text-anchor=\"start\" x=\"222.5\" y=\"-124.8\" font-family=\"Helvetica,sans-Serif\" font-size=\"14.00\">gini = 0.5</text>\n<text text-anchor=\"start\" x=\"205.5\" y=\"-109.8\" font-family=\"Helvetica,sans-Serif\" font-size=\"14.00\">samples = 216</text>\n<text text-anchor=\"start\" x=\"196\" y=\"-94.8\" font-family=\"Helvetica,sans-Serif\" font-size=\"14.00\">value = [179, 174]</text>\n<text text-anchor=\"start\" x=\"223\" y=\"-79.8\" font-family=\"Helvetica,sans-Serif\" font-size=\"14.00\">class = 0</text>\n</g>\n<!-- 1&#45;&gt;1099 -->\n<g id=\"edge5\" class=\"edge\">\n<title>1&#45;&gt;1099</title>\n<path fill=\"none\" stroke=\"black\" d=\"M250.5,-190.91C250.5,-182.65 250.5,-173.86 250.5,-165.3\"/>\n<polygon fill=\"black\" stroke=\"black\" points=\"254,-165.02 250.5,-155.02 247,-165.02 254,-165.02\"/>\n</g>\n<!-- 3 -->\n<g id=\"node4\" class=\"node\">\n<title>3</title>\n<path fill=\"#c0c0c0\" stroke=\"black\" d=\"M67.5,-36C67.5,-36 37.5,-36 37.5,-36 31.5,-36 25.5,-30 25.5,-24 25.5,-24 25.5,-12 25.5,-12 25.5,-6 31.5,0 37.5,0 37.5,0 67.5,0 67.5,0 73.5,0 79.5,-6 79.5,-12 79.5,-12 79.5,-24 79.5,-24 79.5,-30 73.5,-36 67.5,-36\"/>\n<text text-anchor=\"middle\" x=\"52.5\" y=\"-14.3\" font-family=\"Helvetica,sans-Serif\" font-size=\"14.00\">(...)</text>\n</g>\n<!-- 2&#45;&gt;3 -->\n<g id=\"edge3\" class=\"edge\">\n<title>2&#45;&gt;3</title>\n<path fill=\"none\" stroke=\"black\" d=\"M66.61,-71.76C64.3,-63.14 61.92,-54.24 59.79,-46.26\"/>\n<polygon fill=\"black\" stroke=\"black\" points=\"63.12,-45.16 57.15,-36.41 56.36,-46.97 63.12,-45.16\"/>\n</g>\n<!-- 60 -->\n<g id=\"node5\" class=\"node\">\n<title>60</title>\n<path fill=\"#c0c0c0\" stroke=\"black\" d=\"M139.5,-36C139.5,-36 109.5,-36 109.5,-36 103.5,-36 97.5,-30 97.5,-24 97.5,-24 97.5,-12 97.5,-12 97.5,-6 103.5,0 109.5,0 109.5,0 139.5,0 139.5,0 145.5,0 151.5,-6 151.5,-12 151.5,-12 151.5,-24 151.5,-24 151.5,-30 145.5,-36 139.5,-36\"/>\n<text text-anchor=\"middle\" x=\"124.5\" y=\"-14.3\" font-family=\"Helvetica,sans-Serif\" font-size=\"14.00\">(...)</text>\n</g>\n<!-- 2&#45;&gt;60 -->\n<g id=\"edge4\" class=\"edge\">\n<title>2&#45;&gt;60</title>\n<path fill=\"none\" stroke=\"black\" d=\"M97.98,-71.76C102.46,-62.85 107.09,-53.64 111.2,-45.46\"/>\n<polygon fill=\"black\" stroke=\"black\" points=\"114.39,-46.91 115.75,-36.41 108.13,-43.77 114.39,-46.91\"/>\n</g>\n<!-- 1100 -->\n<g id=\"node7\" class=\"node\">\n<title>1100</title>\n<path fill=\"#c0c0c0\" stroke=\"black\" d=\"M222.5,-36C222.5,-36 192.5,-36 192.5,-36 186.5,-36 180.5,-30 180.5,-24 180.5,-24 180.5,-12 180.5,-12 180.5,-6 186.5,0 192.5,0 192.5,0 222.5,0 222.5,0 228.5,0 234.5,-6 234.5,-12 234.5,-12 234.5,-24 234.5,-24 234.5,-30 228.5,-36 222.5,-36\"/>\n<text text-anchor=\"middle\" x=\"207.5\" y=\"-14.3\" font-family=\"Helvetica,sans-Serif\" font-size=\"14.00\">(...)</text>\n</g>\n<!-- 1099&#45;&gt;1100 -->\n<g id=\"edge6\" class=\"edge\">\n<title>1099&#45;&gt;1100</title>\n<path fill=\"none\" stroke=\"black\" d=\"M231.76,-71.76C227.71,-62.94 223.52,-53.84 219.79,-45.72\"/>\n<polygon fill=\"black\" stroke=\"black\" points=\"222.86,-44.03 215.5,-36.41 216.5,-46.95 222.86,-44.03\"/>\n</g>\n<!-- 1175 -->\n<g id=\"node8\" class=\"node\">\n<title>1175</title>\n<path fill=\"#c0c0c0\" stroke=\"black\" d=\"M294.5,-36C294.5,-36 264.5,-36 264.5,-36 258.5,-36 252.5,-30 252.5,-24 252.5,-24 252.5,-12 252.5,-12 252.5,-6 258.5,0 264.5,0 264.5,0 294.5,0 294.5,0 300.5,0 306.5,-6 306.5,-12 306.5,-12 306.5,-24 306.5,-24 306.5,-30 300.5,-36 294.5,-36\"/>\n<text text-anchor=\"middle\" x=\"279.5\" y=\"-14.3\" font-family=\"Helvetica,sans-Serif\" font-size=\"14.00\">(...)</text>\n</g>\n<!-- 1099&#45;&gt;1175 -->\n<g id=\"edge7\" class=\"edge\">\n<title>1099&#45;&gt;1175</title>\n<path fill=\"none\" stroke=\"black\" d=\"M263.14,-71.76C265.84,-63.04 268.63,-54.04 271.13,-45.99\"/>\n<polygon fill=\"black\" stroke=\"black\" points=\"274.48,-46.99 274.1,-36.41 267.8,-44.92 274.48,-46.99\"/>\n</g>\n<!-- 1275 -->\n<g id=\"node10\" class=\"node\">\n<title>1275</title>\n<path fill=\"#f3c6a5\" stroke=\"black\" d=\"M483,-155C483,-155 358,-155 358,-155 352,-155 346,-149 346,-143 346,-143 346,-84 346,-84 346,-78 352,-72 358,-72 358,-72 483,-72 483,-72 489,-72 495,-78 495,-84 495,-84 495,-143 495,-143 495,-149 489,-155 483,-155\"/>\n<text text-anchor=\"start\" x=\"354\" y=\"-139.8\" font-family=\"Helvetica,sans-Serif\" font-size=\"14.00\">cons.conf.idx ≤ &#45;28.35</text>\n<text text-anchor=\"start\" x=\"385\" y=\"-124.8\" font-family=\"Helvetica,sans-Serif\" font-size=\"14.00\">gini = 0.457</text>\n<text text-anchor=\"start\" x=\"375.5\" y=\"-109.8\" font-family=\"Helvetica,sans-Serif\" font-size=\"14.00\">samples = 839</text>\n<text text-anchor=\"start\" x=\"366\" y=\"-94.8\" font-family=\"Helvetica,sans-Serif\" font-size=\"14.00\">value = [869, 474]</text>\n<text text-anchor=\"start\" x=\"393\" y=\"-79.8\" font-family=\"Helvetica,sans-Serif\" font-size=\"14.00\">class = 0</text>\n</g>\n<!-- 1274&#45;&gt;1275 -->\n<g id=\"edge9\" class=\"edge\">\n<title>1274&#45;&gt;1275</title>\n<path fill=\"none\" stroke=\"black\" d=\"M420.5,-190.91C420.5,-182.65 420.5,-173.86 420.5,-165.3\"/>\n<polygon fill=\"black\" stroke=\"black\" points=\"424,-165.02 420.5,-155.02 417,-165.02 424,-165.02\"/>\n</g>\n<!-- 1652 -->\n<g id=\"node13\" class=\"node\">\n<title>1652</title>\n<path fill=\"#eef6fd\" stroke=\"black\" d=\"M656,-155C656,-155 525,-155 525,-155 519,-155 513,-149 513,-143 513,-143 513,-84 513,-84 513,-78 519,-72 525,-72 525,-72 656,-72 656,-72 662,-72 668,-78 668,-84 668,-84 668,-143 668,-143 668,-149 662,-155 656,-155\"/>\n<text text-anchor=\"start\" x=\"521\" y=\"-139.8\" font-family=\"Helvetica,sans-Serif\" font-size=\"14.00\">cons.price.idx ≤ 93.041</text>\n<text text-anchor=\"start\" x=\"555\" y=\"-124.8\" font-family=\"Helvetica,sans-Serif\" font-size=\"14.00\">gini = 0.499</text>\n<text text-anchor=\"start\" x=\"545.5\" y=\"-109.8\" font-family=\"Helvetica,sans-Serif\" font-size=\"14.00\">samples = 481</text>\n<text text-anchor=\"start\" x=\"536\" y=\"-94.8\" font-family=\"Helvetica,sans-Serif\" font-size=\"14.00\">value = [351, 385]</text>\n<text text-anchor=\"start\" x=\"563\" y=\"-79.8\" font-family=\"Helvetica,sans-Serif\" font-size=\"14.00\">class = 1</text>\n</g>\n<!-- 1274&#45;&gt;1652 -->\n<g id=\"edge12\" class=\"edge\">\n<title>1274&#45;&gt;1652</title>\n<path fill=\"none\" stroke=\"black\" d=\"M479.48,-190.91C493.59,-181.2 508.76,-170.76 523.21,-160.81\"/>\n<polygon fill=\"black\" stroke=\"black\" points=\"525.37,-163.57 531.62,-155.02 521.4,-157.81 525.37,-163.57\"/>\n</g>\n<!-- 1276 -->\n<g id=\"node11\" class=\"node\">\n<title>1276</title>\n<path fill=\"#c0c0c0\" stroke=\"black\" d=\"M388.5,-36C388.5,-36 358.5,-36 358.5,-36 352.5,-36 346.5,-30 346.5,-24 346.5,-24 346.5,-12 346.5,-12 346.5,-6 352.5,0 358.5,0 358.5,0 388.5,0 388.5,0 394.5,0 400.5,-6 400.5,-12 400.5,-12 400.5,-24 400.5,-24 400.5,-30 394.5,-36 388.5,-36\"/>\n<text text-anchor=\"middle\" x=\"373.5\" y=\"-14.3\" font-family=\"Helvetica,sans-Serif\" font-size=\"14.00\">(...)</text>\n</g>\n<!-- 1275&#45;&gt;1276 -->\n<g id=\"edge10\" class=\"edge\">\n<title>1275&#45;&gt;1276</title>\n<path fill=\"none\" stroke=\"black\" d=\"M400.02,-71.76C395.54,-62.85 390.91,-53.64 386.8,-45.46\"/>\n<polygon fill=\"black\" stroke=\"black\" points=\"389.87,-43.77 382.25,-36.41 383.61,-46.91 389.87,-43.77\"/>\n</g>\n<!-- 1541 -->\n<g id=\"node12\" class=\"node\">\n<title>1541</title>\n<path fill=\"#c0c0c0\" stroke=\"black\" d=\"M460.5,-36C460.5,-36 430.5,-36 430.5,-36 424.5,-36 418.5,-30 418.5,-24 418.5,-24 418.5,-12 418.5,-12 418.5,-6 424.5,0 430.5,0 430.5,0 460.5,0 460.5,0 466.5,0 472.5,-6 472.5,-12 472.5,-12 472.5,-24 472.5,-24 472.5,-30 466.5,-36 460.5,-36\"/>\n<text text-anchor=\"middle\" x=\"445.5\" y=\"-14.3\" font-family=\"Helvetica,sans-Serif\" font-size=\"14.00\">(...)</text>\n</g>\n<!-- 1275&#45;&gt;1541 -->\n<g id=\"edge11\" class=\"edge\">\n<title>1275&#45;&gt;1541</title>\n<path fill=\"none\" stroke=\"black\" d=\"M431.39,-71.76C433.7,-63.14 436.08,-54.24 438.21,-46.26\"/>\n<polygon fill=\"black\" stroke=\"black\" points=\"441.64,-46.97 440.85,-36.41 434.88,-45.16 441.64,-46.97\"/>\n</g>\n<!-- 1653 -->\n<g id=\"node14\" class=\"node\">\n<title>1653</title>\n<path fill=\"#c0c0c0\" stroke=\"black\" d=\"M569.5,-36C569.5,-36 539.5,-36 539.5,-36 533.5,-36 527.5,-30 527.5,-24 527.5,-24 527.5,-12 527.5,-12 527.5,-6 533.5,0 539.5,0 539.5,0 569.5,0 569.5,0 575.5,0 581.5,-6 581.5,-12 581.5,-12 581.5,-24 581.5,-24 581.5,-30 575.5,-36 569.5,-36\"/>\n<text text-anchor=\"middle\" x=\"554.5\" y=\"-14.3\" font-family=\"Helvetica,sans-Serif\" font-size=\"14.00\">(...)</text>\n</g>\n<!-- 1652&#45;&gt;1653 -->\n<g id=\"edge13\" class=\"edge\">\n<title>1652&#45;&gt;1653</title>\n<path fill=\"none\" stroke=\"black\" d=\"M574.81,-71.76C571.46,-63.04 567.99,-54.04 564.89,-45.99\"/>\n<polygon fill=\"black\" stroke=\"black\" points=\"568.06,-44.48 561.2,-36.41 561.53,-46.99 568.06,-44.48\"/>\n</g>\n<!-- 1818 -->\n<g id=\"node15\" class=\"node\">\n<title>1818</title>\n<path fill=\"#c0c0c0\" stroke=\"black\" d=\"M641.5,-36C641.5,-36 611.5,-36 611.5,-36 605.5,-36 599.5,-30 599.5,-24 599.5,-24 599.5,-12 599.5,-12 599.5,-6 605.5,0 611.5,0 611.5,0 641.5,0 641.5,0 647.5,0 653.5,-6 653.5,-12 653.5,-12 653.5,-24 653.5,-24 653.5,-30 647.5,-36 641.5,-36\"/>\n<text text-anchor=\"middle\" x=\"626.5\" y=\"-14.3\" font-family=\"Helvetica,sans-Serif\" font-size=\"14.00\">(...)</text>\n</g>\n<!-- 1652&#45;&gt;1818 -->\n<g id=\"edge14\" class=\"edge\">\n<title>1652&#45;&gt;1818</title>\n<path fill=\"none\" stroke=\"black\" d=\"M606.19,-71.76C609.54,-63.04 613.01,-54.04 616.11,-45.99\"/>\n<polygon fill=\"black\" stroke=\"black\" points=\"619.47,-46.99 619.8,-36.41 612.94,-44.48 619.47,-46.99\"/>\n</g>\n</g>\n</svg>\n",
            "text/plain": [
              "<graphviz.sources.Source at 0x7a5deab23a90>"
            ]
          },
          "metadata": {}
        }
      ]
    },
    {
      "cell_type": "code",
      "source": [
        "from scipy.stats import randint"
      ],
      "metadata": {
        "id": "SWoPgC55gfuE"
      },
      "execution_count": 76,
      "outputs": []
    },
    {
      "cell_type": "code",
      "source": [
        "ne = np.random.randint(5, 200, 100)\n",
        "md = np.random.randint(3, 20, 20)\n",
        "param_dist = {'n_estimators': ne, 'max_depth': md}"
      ],
      "metadata": {
        "id": "hC6z4OpuiLKA"
      },
      "execution_count": 77,
      "outputs": []
    },
    {
      "cell_type": "code",
      "source": [
        "from sklearn.model_selection import RandomizedSearchCV"
      ],
      "metadata": {
        "id": "Jczb-XIujJAj"
      },
      "execution_count": 78,
      "outputs": []
    },
    {
      "cell_type": "code",
      "source": [
        "random_search = RandomizedSearchCV(RandomForestClassifier(), param_distributions=param_dist, n_iter=15, cv=5, verbose=3)"
      ],
      "metadata": {
        "id": "IQMyYfQsjDDM"
      },
      "execution_count": 79,
      "outputs": []
    },
    {
      "cell_type": "code",
      "source": [
        "random_search.fit(X_train, y_train)"
      ],
      "metadata": {
        "colab": {
          "base_uri": "https://localhost:8080/",
          "height": 1000
        },
        "id": "on14RuD7j8Gk",
        "outputId": "ca467e4c-bc9f-4155-80e5-5b04299c839e"
      },
      "execution_count": 80,
      "outputs": [
        {
          "output_type": "stream",
          "name": "stdout",
          "text": [
            "Fitting 5 folds for each of 15 candidates, totalling 75 fits\n",
            "[CV 1/5] END ....max_depth=17, n_estimators=152;, score=0.888 total time=   3.0s\n",
            "[CV 2/5] END ....max_depth=17, n_estimators=152;, score=0.882 total time=   2.2s\n",
            "[CV 3/5] END ....max_depth=17, n_estimators=152;, score=0.887 total time=   2.2s\n",
            "[CV 4/5] END ....max_depth=17, n_estimators=152;, score=0.888 total time=   2.3s\n",
            "[CV 5/5] END ....max_depth=17, n_estimators=152;, score=0.888 total time=   2.3s\n",
            "[CV 1/5] END .....max_depth=6, n_estimators=171;, score=0.889 total time=   2.5s\n",
            "[CV 2/5] END .....max_depth=6, n_estimators=171;, score=0.889 total time=   1.5s\n",
            "[CV 3/5] END .....max_depth=6, n_estimators=171;, score=0.889 total time=   1.6s\n",
            "[CV 4/5] END .....max_depth=6, n_estimators=171;, score=0.888 total time=   1.6s\n",
            "[CV 5/5] END .....max_depth=6, n_estimators=171;, score=0.886 total time=   1.5s\n",
            "[CV 1/5] END ....max_depth=15, n_estimators=136;, score=0.887 total time=   1.9s\n",
            "[CV 2/5] END ....max_depth=15, n_estimators=136;, score=0.882 total time=   2.0s\n",
            "[CV 3/5] END ....max_depth=15, n_estimators=136;, score=0.889 total time=   2.8s\n",
            "[CV 4/5] END ....max_depth=15, n_estimators=136;, score=0.889 total time=   1.9s\n",
            "[CV 5/5] END ....max_depth=15, n_estimators=136;, score=0.887 total time=   1.9s\n",
            "[CV 1/5] END ....max_depth=15, n_estimators=166;, score=0.888 total time=   2.4s\n",
            "[CV 2/5] END ....max_depth=15, n_estimators=166;, score=0.881 total time=   2.4s\n",
            "[CV 3/5] END ....max_depth=15, n_estimators=166;, score=0.887 total time=   3.2s\n",
            "[CV 4/5] END ....max_depth=15, n_estimators=166;, score=0.890 total time=   2.5s\n",
            "[CV 5/5] END ....max_depth=15, n_estimators=166;, score=0.886 total time=   2.4s\n",
            "[CV 1/5] END .....max_depth=15, n_estimators=17;, score=0.888 total time=   0.3s\n",
            "[CV 2/5] END .....max_depth=15, n_estimators=17;, score=0.881 total time=   0.3s\n",
            "[CV 3/5] END .....max_depth=15, n_estimators=17;, score=0.888 total time=   0.3s\n",
            "[CV 4/5] END .....max_depth=15, n_estimators=17;, score=0.888 total time=   0.3s\n",
            "[CV 5/5] END .....max_depth=15, n_estimators=17;, score=0.888 total time=   0.3s\n",
            "[CV 1/5] END .....max_depth=12, n_estimators=45;, score=0.891 total time=   0.6s\n",
            "[CV 2/5] END .....max_depth=12, n_estimators=45;, score=0.883 total time=   0.6s\n",
            "[CV 3/5] END .....max_depth=12, n_estimators=45;, score=0.888 total time=   0.6s\n",
            "[CV 4/5] END .....max_depth=12, n_estimators=45;, score=0.888 total time=   0.6s\n",
            "[CV 5/5] END .....max_depth=12, n_estimators=45;, score=0.888 total time=   0.6s\n",
            "[CV 1/5] END ....max_depth=14, n_estimators=122;, score=0.888 total time=   2.1s\n",
            "[CV 2/5] END ....max_depth=14, n_estimators=122;, score=0.883 total time=   2.2s\n",
            "[CV 3/5] END ....max_depth=14, n_estimators=122;, score=0.887 total time=   1.7s\n",
            "[CV 4/5] END ....max_depth=14, n_estimators=122;, score=0.889 total time=   1.7s\n",
            "[CV 5/5] END ....max_depth=14, n_estimators=122;, score=0.886 total time=   1.7s\n",
            "[CV 1/5] END .....max_depth=17, n_estimators=19;, score=0.887 total time=   0.7s\n",
            "[CV 2/5] END .....max_depth=17, n_estimators=19;, score=0.882 total time=   0.3s\n",
            "[CV 3/5] END .....max_depth=17, n_estimators=19;, score=0.888 total time=   0.3s\n",
            "[CV 4/5] END .....max_depth=17, n_estimators=19;, score=0.888 total time=   0.3s\n",
            "[CV 5/5] END .....max_depth=17, n_estimators=19;, score=0.887 total time=   0.3s\n",
            "[CV 1/5] END ....max_depth=13, n_estimators=163;, score=0.888 total time=   2.3s\n",
            "[CV 2/5] END ....max_depth=13, n_estimators=163;, score=0.883 total time=   3.1s\n",
            "[CV 3/5] END ....max_depth=13, n_estimators=163;, score=0.888 total time=   2.2s\n",
            "[CV 4/5] END ....max_depth=13, n_estimators=163;, score=0.889 total time=   2.2s\n",
            "[CV 5/5] END ....max_depth=13, n_estimators=163;, score=0.886 total time=   2.2s\n",
            "[CV 1/5] END .....max_depth=14, n_estimators=18;, score=0.888 total time=   0.3s\n",
            "[CV 2/5] END .....max_depth=14, n_estimators=18;, score=0.880 total time=   0.3s\n",
            "[CV 3/5] END .....max_depth=14, n_estimators=18;, score=0.888 total time=   0.3s\n",
            "[CV 4/5] END .....max_depth=14, n_estimators=18;, score=0.888 total time=   0.3s\n",
            "[CV 5/5] END .....max_depth=14, n_estimators=18;, score=0.888 total time=   0.3s\n",
            "[CV 1/5] END .....max_depth=15, n_estimators=70;, score=0.888 total time=   1.0s\n",
            "[CV 2/5] END .....max_depth=15, n_estimators=70;, score=0.882 total time=   1.4s\n",
            "[CV 3/5] END .....max_depth=15, n_estimators=70;, score=0.888 total time=   1.6s\n",
            "[CV 4/5] END .....max_depth=15, n_estimators=70;, score=0.887 total time=   1.0s\n",
            "[CV 5/5] END .....max_depth=15, n_estimators=70;, score=0.886 total time=   1.0s\n",
            "[CV 1/5] END .....max_depth=15, n_estimators=19;, score=0.887 total time=   0.3s\n",
            "[CV 2/5] END .....max_depth=15, n_estimators=19;, score=0.881 total time=   0.3s\n",
            "[CV 3/5] END .....max_depth=15, n_estimators=19;, score=0.889 total time=   0.3s\n",
            "[CV 4/5] END .....max_depth=15, n_estimators=19;, score=0.889 total time=   0.3s\n",
            "[CV 5/5] END .....max_depth=15, n_estimators=19;, score=0.887 total time=   0.3s\n",
            "[CV 1/5] END ....max_depth=12, n_estimators=140;, score=0.888 total time=   1.8s\n",
            "[CV 2/5] END ....max_depth=12, n_estimators=140;, score=0.884 total time=   1.8s\n",
            "[CV 3/5] END ....max_depth=12, n_estimators=140;, score=0.890 total time=   1.8s\n",
            "[CV 4/5] END ....max_depth=12, n_estimators=140;, score=0.889 total time=   2.3s\n",
            "[CV 5/5] END ....max_depth=12, n_estimators=140;, score=0.887 total time=   2.7s\n",
            "[CV 1/5] END .....max_depth=13, n_estimators=78;, score=0.889 total time=   1.1s\n",
            "[CV 2/5] END .....max_depth=13, n_estimators=78;, score=0.881 total time=   1.1s\n",
            "[CV 3/5] END .....max_depth=13, n_estimators=78;, score=0.890 total time=   1.1s\n",
            "[CV 4/5] END .....max_depth=13, n_estimators=78;, score=0.890 total time=   1.1s\n",
            "[CV 5/5] END .....max_depth=13, n_estimators=78;, score=0.887 total time=   1.1s\n",
            "[CV 1/5] END .....max_depth=6, n_estimators=161;, score=0.889 total time=   1.4s\n",
            "[CV 2/5] END .....max_depth=6, n_estimators=161;, score=0.889 total time=   1.5s\n",
            "[CV 3/5] END .....max_depth=6, n_estimators=161;, score=0.888 total time=   2.2s\n",
            "[CV 4/5] END .....max_depth=6, n_estimators=161;, score=0.887 total time=   1.6s\n",
            "[CV 5/5] END .....max_depth=6, n_estimators=161;, score=0.886 total time=   1.5s\n"
          ]
        },
        {
          "output_type": "execute_result",
          "data": {
            "text/plain": [
              "RandomizedSearchCV(cv=5, estimator=RandomForestClassifier(), n_iter=15,\n",
              "                   param_distributions={'max_depth': array([ 8, 12,  8, 14, 17, 15, 14,  9, 13, 15, 15,  6, 10,  5, 17, 13,  6,\n",
              "       15, 15, 11]),\n",
              "                                        'n_estimators': array([188, 155, 152, 119,  72,  95, 140,  12, 127, 169,  37, 152,  57,\n",
              "        45,  66,   7, 161, 111, 154,  58,  67, 163, 157, 171,  66,  62,\n",
              "       182, 145,   6,  83, 194,  93, 162,  76,  70,  62, 177,  81,  89,\n",
              "        40, 112, 181, 105, 120, 193,  45,  19, 177,  86,  46, 183, 128,\n",
              "       175, 136, 130,  87,  84, 155, 169, 170,  17,  46,  82,   8,  50,\n",
              "       162,  18,  98, 133, 163,   8, 190,  16, 181,  66, 128, 122, 133,\n",
              "        38, 155,  18, 133, 193,  24,  41, 149,  79, 136, 167, 175, 166,\n",
              "       130, 198,  22, 158,  78,  74, 122, 118,  59])},\n",
              "                   verbose=3)"
            ],
            "text/html": [
              "<style>#sk-container-id-5 {color: black;background-color: white;}#sk-container-id-5 pre{padding: 0;}#sk-container-id-5 div.sk-toggleable {background-color: white;}#sk-container-id-5 label.sk-toggleable__label {cursor: pointer;display: block;width: 100%;margin-bottom: 0;padding: 0.3em;box-sizing: border-box;text-align: center;}#sk-container-id-5 label.sk-toggleable__label-arrow:before {content: \"▸\";float: left;margin-right: 0.25em;color: #696969;}#sk-container-id-5 label.sk-toggleable__label-arrow:hover:before {color: black;}#sk-container-id-5 div.sk-estimator:hover label.sk-toggleable__label-arrow:before {color: black;}#sk-container-id-5 div.sk-toggleable__content {max-height: 0;max-width: 0;overflow: hidden;text-align: left;background-color: #f0f8ff;}#sk-container-id-5 div.sk-toggleable__content pre {margin: 0.2em;color: black;border-radius: 0.25em;background-color: #f0f8ff;}#sk-container-id-5 input.sk-toggleable__control:checked~div.sk-toggleable__content {max-height: 200px;max-width: 100%;overflow: auto;}#sk-container-id-5 input.sk-toggleable__control:checked~label.sk-toggleable__label-arrow:before {content: \"▾\";}#sk-container-id-5 div.sk-estimator input.sk-toggleable__control:checked~label.sk-toggleable__label {background-color: #d4ebff;}#sk-container-id-5 div.sk-label input.sk-toggleable__control:checked~label.sk-toggleable__label {background-color: #d4ebff;}#sk-container-id-5 input.sk-hidden--visually {border: 0;clip: rect(1px 1px 1px 1px);clip: rect(1px, 1px, 1px, 1px);height: 1px;margin: -1px;overflow: hidden;padding: 0;position: absolute;width: 1px;}#sk-container-id-5 div.sk-estimator {font-family: monospace;background-color: #f0f8ff;border: 1px dotted black;border-radius: 0.25em;box-sizing: border-box;margin-bottom: 0.5em;}#sk-container-id-5 div.sk-estimator:hover {background-color: #d4ebff;}#sk-container-id-5 div.sk-parallel-item::after {content: \"\";width: 100%;border-bottom: 1px solid gray;flex-grow: 1;}#sk-container-id-5 div.sk-label:hover label.sk-toggleable__label {background-color: #d4ebff;}#sk-container-id-5 div.sk-serial::before {content: \"\";position: absolute;border-left: 1px solid gray;box-sizing: border-box;top: 0;bottom: 0;left: 50%;z-index: 0;}#sk-container-id-5 div.sk-serial {display: flex;flex-direction: column;align-items: center;background-color: white;padding-right: 0.2em;padding-left: 0.2em;position: relative;}#sk-container-id-5 div.sk-item {position: relative;z-index: 1;}#sk-container-id-5 div.sk-parallel {display: flex;align-items: stretch;justify-content: center;background-color: white;position: relative;}#sk-container-id-5 div.sk-item::before, #sk-container-id-5 div.sk-parallel-item::before {content: \"\";position: absolute;border-left: 1px solid gray;box-sizing: border-box;top: 0;bottom: 0;left: 50%;z-index: -1;}#sk-container-id-5 div.sk-parallel-item {display: flex;flex-direction: column;z-index: 1;position: relative;background-color: white;}#sk-container-id-5 div.sk-parallel-item:first-child::after {align-self: flex-end;width: 50%;}#sk-container-id-5 div.sk-parallel-item:last-child::after {align-self: flex-start;width: 50%;}#sk-container-id-5 div.sk-parallel-item:only-child::after {width: 0;}#sk-container-id-5 div.sk-dashed-wrapped {border: 1px dashed gray;margin: 0 0.4em 0.5em 0.4em;box-sizing: border-box;padding-bottom: 0.4em;background-color: white;}#sk-container-id-5 div.sk-label label {font-family: monospace;font-weight: bold;display: inline-block;line-height: 1.2em;}#sk-container-id-5 div.sk-label-container {text-align: center;}#sk-container-id-5 div.sk-container {/* jupyter's `normalize.less` sets `[hidden] { display: none; }` but bootstrap.min.css set `[hidden] { display: none !important; }` so we also need the `!important` here to be able to override the default hidden behavior on the sphinx rendered scikit-learn.org. See: https://github.com/scikit-learn/scikit-learn/issues/21755 */display: inline-block !important;position: relative;}#sk-container-id-5 div.sk-text-repr-fallback {display: none;}</style><div id=\"sk-container-id-5\" class=\"sk-top-container\"><div class=\"sk-text-repr-fallback\"><pre>RandomizedSearchCV(cv=5, estimator=RandomForestClassifier(), n_iter=15,\n",
              "                   param_distributions={&#x27;max_depth&#x27;: array([ 8, 12,  8, 14, 17, 15, 14,  9, 13, 15, 15,  6, 10,  5, 17, 13,  6,\n",
              "       15, 15, 11]),\n",
              "                                        &#x27;n_estimators&#x27;: array([188, 155, 152, 119,  72,  95, 140,  12, 127, 169,  37, 152,  57,\n",
              "        45,  66,   7, 161, 111, 154,  58,  67, 163, 157, 171,  66,  62,\n",
              "       182, 145,   6,  83, 194,  93, 162,  76,  70,  62, 177,  81,  89,\n",
              "        40, 112, 181, 105, 120, 193,  45,  19, 177,  86,  46, 183, 128,\n",
              "       175, 136, 130,  87,  84, 155, 169, 170,  17,  46,  82,   8,  50,\n",
              "       162,  18,  98, 133, 163,   8, 190,  16, 181,  66, 128, 122, 133,\n",
              "        38, 155,  18, 133, 193,  24,  41, 149,  79, 136, 167, 175, 166,\n",
              "       130, 198,  22, 158,  78,  74, 122, 118,  59])},\n",
              "                   verbose=3)</pre><b>In a Jupyter environment, please rerun this cell to show the HTML representation or trust the notebook. <br />On GitHub, the HTML representation is unable to render, please try loading this page with nbviewer.org.</b></div><div class=\"sk-container\" hidden><div class=\"sk-item sk-dashed-wrapped\"><div class=\"sk-label-container\"><div class=\"sk-label sk-toggleable\"><input class=\"sk-toggleable__control sk-hidden--visually\" id=\"sk-estimator-id-5\" type=\"checkbox\" ><label for=\"sk-estimator-id-5\" class=\"sk-toggleable__label sk-toggleable__label-arrow\">RandomizedSearchCV</label><div class=\"sk-toggleable__content\"><pre>RandomizedSearchCV(cv=5, estimator=RandomForestClassifier(), n_iter=15,\n",
              "                   param_distributions={&#x27;max_depth&#x27;: array([ 8, 12,  8, 14, 17, 15, 14,  9, 13, 15, 15,  6, 10,  5, 17, 13,  6,\n",
              "       15, 15, 11]),\n",
              "                                        &#x27;n_estimators&#x27;: array([188, 155, 152, 119,  72,  95, 140,  12, 127, 169,  37, 152,  57,\n",
              "        45,  66,   7, 161, 111, 154,  58,  67, 163, 157, 171,  66,  62,\n",
              "       182, 145,   6,  83, 194,  93, 162,  76,  70,  62, 177,  81,  89,\n",
              "        40, 112, 181, 105, 120, 193,  45,  19, 177,  86,  46, 183, 128,\n",
              "       175, 136, 130,  87,  84, 155, 169, 170,  17,  46,  82,   8,  50,\n",
              "       162,  18,  98, 133, 163,   8, 190,  16, 181,  66, 128, 122, 133,\n",
              "        38, 155,  18, 133, 193,  24,  41, 149,  79, 136, 167, 175, 166,\n",
              "       130, 198,  22, 158,  78,  74, 122, 118,  59])},\n",
              "                   verbose=3)</pre></div></div></div><div class=\"sk-parallel\"><div class=\"sk-parallel-item\"><div class=\"sk-item\"><div class=\"sk-label-container\"><div class=\"sk-label sk-toggleable\"><input class=\"sk-toggleable__control sk-hidden--visually\" id=\"sk-estimator-id-6\" type=\"checkbox\" ><label for=\"sk-estimator-id-6\" class=\"sk-toggleable__label sk-toggleable__label-arrow\">estimator: RandomForestClassifier</label><div class=\"sk-toggleable__content\"><pre>RandomForestClassifier()</pre></div></div></div><div class=\"sk-serial\"><div class=\"sk-item\"><div class=\"sk-estimator sk-toggleable\"><input class=\"sk-toggleable__control sk-hidden--visually\" id=\"sk-estimator-id-7\" type=\"checkbox\" ><label for=\"sk-estimator-id-7\" class=\"sk-toggleable__label sk-toggleable__label-arrow\">RandomForestClassifier</label><div class=\"sk-toggleable__content\"><pre>RandomForestClassifier()</pre></div></div></div></div></div></div></div></div></div></div>"
            ]
          },
          "metadata": {},
          "execution_count": 80
        }
      ]
    },
    {
      "cell_type": "code",
      "source": [
        "random_search.best_estimator_"
      ],
      "metadata": {
        "colab": {
          "base_uri": "https://localhost:8080/",
          "height": 75
        },
        "id": "ilw32q5Fj-W0",
        "outputId": "3cdc11a7-7b95-4b03-8622-be072959f876"
      },
      "execution_count": 81,
      "outputs": [
        {
          "output_type": "execute_result",
          "data": {
            "text/plain": [
              "RandomForestClassifier(max_depth=6, n_estimators=171)"
            ],
            "text/html": [
              "<style>#sk-container-id-6 {color: black;background-color: white;}#sk-container-id-6 pre{padding: 0;}#sk-container-id-6 div.sk-toggleable {background-color: white;}#sk-container-id-6 label.sk-toggleable__label {cursor: pointer;display: block;width: 100%;margin-bottom: 0;padding: 0.3em;box-sizing: border-box;text-align: center;}#sk-container-id-6 label.sk-toggleable__label-arrow:before {content: \"▸\";float: left;margin-right: 0.25em;color: #696969;}#sk-container-id-6 label.sk-toggleable__label-arrow:hover:before {color: black;}#sk-container-id-6 div.sk-estimator:hover label.sk-toggleable__label-arrow:before {color: black;}#sk-container-id-6 div.sk-toggleable__content {max-height: 0;max-width: 0;overflow: hidden;text-align: left;background-color: #f0f8ff;}#sk-container-id-6 div.sk-toggleable__content pre {margin: 0.2em;color: black;border-radius: 0.25em;background-color: #f0f8ff;}#sk-container-id-6 input.sk-toggleable__control:checked~div.sk-toggleable__content {max-height: 200px;max-width: 100%;overflow: auto;}#sk-container-id-6 input.sk-toggleable__control:checked~label.sk-toggleable__label-arrow:before {content: \"▾\";}#sk-container-id-6 div.sk-estimator input.sk-toggleable__control:checked~label.sk-toggleable__label {background-color: #d4ebff;}#sk-container-id-6 div.sk-label input.sk-toggleable__control:checked~label.sk-toggleable__label {background-color: #d4ebff;}#sk-container-id-6 input.sk-hidden--visually {border: 0;clip: rect(1px 1px 1px 1px);clip: rect(1px, 1px, 1px, 1px);height: 1px;margin: -1px;overflow: hidden;padding: 0;position: absolute;width: 1px;}#sk-container-id-6 div.sk-estimator {font-family: monospace;background-color: #f0f8ff;border: 1px dotted black;border-radius: 0.25em;box-sizing: border-box;margin-bottom: 0.5em;}#sk-container-id-6 div.sk-estimator:hover {background-color: #d4ebff;}#sk-container-id-6 div.sk-parallel-item::after {content: \"\";width: 100%;border-bottom: 1px solid gray;flex-grow: 1;}#sk-container-id-6 div.sk-label:hover label.sk-toggleable__label {background-color: #d4ebff;}#sk-container-id-6 div.sk-serial::before {content: \"\";position: absolute;border-left: 1px solid gray;box-sizing: border-box;top: 0;bottom: 0;left: 50%;z-index: 0;}#sk-container-id-6 div.sk-serial {display: flex;flex-direction: column;align-items: center;background-color: white;padding-right: 0.2em;padding-left: 0.2em;position: relative;}#sk-container-id-6 div.sk-item {position: relative;z-index: 1;}#sk-container-id-6 div.sk-parallel {display: flex;align-items: stretch;justify-content: center;background-color: white;position: relative;}#sk-container-id-6 div.sk-item::before, #sk-container-id-6 div.sk-parallel-item::before {content: \"\";position: absolute;border-left: 1px solid gray;box-sizing: border-box;top: 0;bottom: 0;left: 50%;z-index: -1;}#sk-container-id-6 div.sk-parallel-item {display: flex;flex-direction: column;z-index: 1;position: relative;background-color: white;}#sk-container-id-6 div.sk-parallel-item:first-child::after {align-self: flex-end;width: 50%;}#sk-container-id-6 div.sk-parallel-item:last-child::after {align-self: flex-start;width: 50%;}#sk-container-id-6 div.sk-parallel-item:only-child::after {width: 0;}#sk-container-id-6 div.sk-dashed-wrapped {border: 1px dashed gray;margin: 0 0.4em 0.5em 0.4em;box-sizing: border-box;padding-bottom: 0.4em;background-color: white;}#sk-container-id-6 div.sk-label label {font-family: monospace;font-weight: bold;display: inline-block;line-height: 1.2em;}#sk-container-id-6 div.sk-label-container {text-align: center;}#sk-container-id-6 div.sk-container {/* jupyter's `normalize.less` sets `[hidden] { display: none; }` but bootstrap.min.css set `[hidden] { display: none !important; }` so we also need the `!important` here to be able to override the default hidden behavior on the sphinx rendered scikit-learn.org. See: https://github.com/scikit-learn/scikit-learn/issues/21755 */display: inline-block !important;position: relative;}#sk-container-id-6 div.sk-text-repr-fallback {display: none;}</style><div id=\"sk-container-id-6\" class=\"sk-top-container\"><div class=\"sk-text-repr-fallback\"><pre>RandomForestClassifier(max_depth=6, n_estimators=171)</pre><b>In a Jupyter environment, please rerun this cell to show the HTML representation or trust the notebook. <br />On GitHub, the HTML representation is unable to render, please try loading this page with nbviewer.org.</b></div><div class=\"sk-container\" hidden><div class=\"sk-item\"><div class=\"sk-estimator sk-toggleable\"><input class=\"sk-toggleable__control sk-hidden--visually\" id=\"sk-estimator-id-8\" type=\"checkbox\" checked><label for=\"sk-estimator-id-8\" class=\"sk-toggleable__label sk-toggleable__label-arrow\">RandomForestClassifier</label><div class=\"sk-toggleable__content\"><pre>RandomForestClassifier(max_depth=6, n_estimators=171)</pre></div></div></div></div></div>"
            ]
          },
          "metadata": {},
          "execution_count": 81
        }
      ]
    },
    {
      "cell_type": "code",
      "source": [
        "y_pred = random_search.best_estimator_.predict(X_test)"
      ],
      "metadata": {
        "id": "gSD5WYMglPGK"
      },
      "execution_count": 82,
      "outputs": []
    },
    {
      "cell_type": "code",
      "source": [
        "accuracy_score(y_pred, y_test)"
      ],
      "metadata": {
        "colab": {
          "base_uri": "https://localhost:8080/"
        },
        "id": "-godHkc8lWHN",
        "outputId": "93a2a863-3fcf-4028-c318-d6cec06cf833"
      },
      "execution_count": 83,
      "outputs": [
        {
          "output_type": "execute_result",
          "data": {
            "text/plain": [
              "0.8926924010682205"
            ]
          },
          "metadata": {},
          "execution_count": 83
        }
      ]
    },
    {
      "cell_type": "code",
      "source": [],
      "metadata": {
        "id": "Rhz4rfTFlXz7"
      },
      "execution_count": null,
      "outputs": []
    }
  ]
}