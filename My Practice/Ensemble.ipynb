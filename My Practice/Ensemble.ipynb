{
  "nbformat": 4,
  "nbformat_minor": 0,
  "metadata": {
    "colab": {
      "provenance": []
    },
    "kernelspec": {
      "name": "python3",
      "display_name": "Python 3"
    },
    "language_info": {
      "name": "python"
    }
  },
  "cells": [
    {
      "cell_type": "code",
      "source": [
        "from sklearn.datasets import load_iris\n",
        "from sklearn.tree import DecisionTreeClassifier\n",
        "from sklearn.ensemble import RandomForestClassifier\n",
        "from sklearn.neighbors import KNeighborsClassifier\n",
        "from sklearn.linear_model import LogisticRegression\n",
        "from sklearn.ensemble import StackingClassifier\n",
        "import xgboost"
      ],
      "metadata": {
        "id": "LdOwPZct_kRW"
      },
      "execution_count": null,
      "outputs": []
    },
    {
      "cell_type": "code",
      "source": [
        "from sklearn.model_selection import cross_val_score"
      ],
      "metadata": {
        "id": "aEVTFhdoATZ9"
      },
      "execution_count": null,
      "outputs": []
    },
    {
      "cell_type": "code",
      "execution_count": null,
      "metadata": {
        "id": "wkXW2bY0-y3T"
      },
      "outputs": [],
      "source": [
        "X, y = load_iris(return_X_y=True)"
      ]
    },
    {
      "cell_type": "code",
      "source": [
        "dtc = DecisionTreeClassifier()\n",
        "rfc = RandomForestClassifier()\n",
        "knn = KNeighborsClassifier()\n",
        "xgb = xgboost.XGBClassifier()"
      ],
      "metadata": {
        "id": "hmphRBM2_05y"
      },
      "execution_count": null,
      "outputs": []
    },
    {
      "cell_type": "code",
      "source": [
        "clf = [('dtc', dtc), ('rfc', rfc), ('knn', knn), ('xgb', xgb)]\n",
        "scores = []\n",
        "for name, model in clf:\n",
        "    # Directly use cross val score to calculate accuracy\n",
        "    score = cross_val_score(model, X, y, cv=5, scoring='accuracy')\n",
        "    scores.append((name, score.mean()))\n",
        "print(scores)"
      ],
      "metadata": {
        "colab": {
          "base_uri": "https://localhost:8080/"
        },
        "id": "iLyh9vN1AGq6",
        "outputId": "5aef3e76-2a25-41d6-c6f2-e87f21c4c474"
      },
      "execution_count": null,
      "outputs": [
        {
          "output_type": "stream",
          "name": "stdout",
          "text": [
            "[('dtc', 0.9600000000000002), ('rfc', 0.96), ('knn', 0.9733333333333334), ('xgb', 0.9533333333333334)]\n"
          ]
        }
      ]
    },
    {
      "cell_type": "code",
      "source": [
        "lr = LogisticRegression()\n",
        "\n",
        "stack_model = StackingClassifier(estimators=clf, final_estimator=lr)"
      ],
      "metadata": {
        "id": "nKuIClz3A1jE"
      },
      "execution_count": null,
      "outputs": []
    },
    {
      "cell_type": "code",
      "source": [
        "cross_val_score(stack_model, X, y, cv=5, scoring='accuracy').mean()"
      ],
      "metadata": {
        "colab": {
          "base_uri": "https://localhost:8080/"
        },
        "id": "mAXcaj4oBqDL",
        "outputId": "6a16fc85-3962-461f-8dec-094c680f5a2c"
      },
      "execution_count": null,
      "outputs": [
        {
          "output_type": "execute_result",
          "data": {
            "text/plain": [
              "0.9666666666666668"
            ]
          },
          "metadata": {},
          "execution_count": 14
        }
      ]
    },
    {
      "cell_type": "markdown",
      "source": [
        "### As the models are not hyperparam tuned, the score of stacked model is also less. Hence, if stack model is performing poorly, try different models which are hyperparam tuned."
      ],
      "metadata": {
        "id": "hlGglxesB7TD"
      }
    },
    {
      "cell_type": "code",
      "source": [],
      "metadata": {
        "id": "0-ANCo-nBuT4"
      },
      "execution_count": null,
      "outputs": []
    },
    {
      "cell_type": "markdown",
      "source": [
        "\n",
        "\n",
        "```\n",
        "from sklearn.svm import SVC\n",
        "from sklearn.ensemble import BaggingClassifier\n",
        "from sklearn.datasets import make_classification\n",
        "X, y = make_classification(n_samples=100, n_features=4,\n",
        "                           n_informative=2, n_redundant=0,\n",
        "                           random_state=0, shuffle=False)\n",
        "clf = BaggingClassifier(estimator=SVC(),\n",
        "                        n_estimators=10, random_state=0).fit(X, y)\n",
        "clf.predict([[0, 0, 0, 0]])\n",
        "```\n",
        "\n"
      ],
      "metadata": {
        "id": "EmPYVigGC0YW"
      }
    },
    {
      "cell_type": "code",
      "source": [
        "from sklearn.svm import SVC\n",
        "from sklearn.ensemble import BaggingClassifier\n",
        "from sklearn.datasets import make_classification"
      ],
      "metadata": {
        "id": "Mis3LIsnC1Hz"
      },
      "execution_count": null,
      "outputs": []
    },
    {
      "cell_type": "code",
      "source": [
        "X, y = make_classification(n_samples=100, n_features=4)"
      ],
      "metadata": {
        "id": "5ECK9DvsC_jn"
      },
      "execution_count": null,
      "outputs": []
    },
    {
      "cell_type": "code",
      "source": [
        "clf = BaggingClassifier(estimator=SVC(), n_estimators=15)"
      ],
      "metadata": {
        "id": "nHJFEasQDD05"
      },
      "execution_count": null,
      "outputs": []
    },
    {
      "cell_type": "code",
      "source": [
        "cross_val_score(SVC(), X, y, cv=5, scoring='accuracy').mean()"
      ],
      "metadata": {
        "id": "hGKini95DUtl",
        "outputId": "48839ef6-3788-4035-c2c9-57f365cac85b",
        "colab": {
          "base_uri": "https://localhost:8080/"
        }
      },
      "execution_count": null,
      "outputs": [
        {
          "output_type": "execute_result",
          "data": {
            "text/plain": [
              "0.9299999999999999"
            ]
          },
          "metadata": {},
          "execution_count": 19
        }
      ]
    },
    {
      "cell_type": "code",
      "source": [
        "cross_val_score(clf, X, y, cv=5, scoring='accuracy').mean()"
      ],
      "metadata": {
        "colab": {
          "base_uri": "https://localhost:8080/"
        },
        "id": "W7Hn4BxUDPni",
        "outputId": "15441449-62f5-483b-8a0d-6bbc501d17ae"
      },
      "execution_count": null,
      "outputs": [
        {
          "output_type": "execute_result",
          "data": {
            "text/plain": [
              "0.9399999999999998"
            ]
          },
          "metadata": {},
          "execution_count": 18
        }
      ]
    },
    {
      "cell_type": "code",
      "source": [],
      "metadata": {
        "id": "fNkLlV0PDSF8"
      },
      "execution_count": null,
      "outputs": []
    }
  ]
}