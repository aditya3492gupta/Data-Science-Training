{
 "cells": [
  {
   "cell_type": "code",
   "execution_count": 1,
   "metadata": {},
   "outputs": [],
   "source": [
    "import numpy as np\n",
    "import pandas as pd\n",
    "import matplotlib.pyplot as plt\n",
    "import math\n",
    "\n",
    "from scipy.stats import poisson"
   ]
  },
  {
   "cell_type": "code",
   "execution_count": 2,
   "metadata": {},
   "outputs": [
    {
     "name": "stdout",
     "output_type": "stream",
     "text": [
      "43.000112\n",
      "39.26\n"
     ]
    }
   ],
   "source": [
    "np.random.seed(6)\n",
    "\n",
    "population = np.concatenate((\n",
    "    poisson.rvs(loc=18, mu=35, size=150000),\n",
    "    poisson.rvs(loc=18, mu=10, size=100000)\n",
    "))\n",
    "\n",
    "sample_1 = np.concatenate((\n",
    "    poisson.rvs(loc=18, mu=30, size=30),\n",
    "    poisson.rvs(loc=18, mu=10, size=20)\n",
    "))\n",
    "\n",
    "print(population.mean())\n",
    "print(sample_1.mean())"
   ]
  },
  {
   "cell_type": "code",
   "execution_count": 3,
   "metadata": {},
   "outputs": [
    {
     "data": {
      "text/plain": [
       "TtestResult(statistic=-2.5742714883655027, pvalue=0.013118685425061678, df=49)"
      ]
     },
     "execution_count": 3,
     "metadata": {},
     "output_type": "execute_result"
    }
   ],
   "source": [
    "from scipy.stats import ttest_1samp\n",
    "\n",
    "ttest_1samp(\n",
    "    a=sample_1,                  # Sample data\n",
    "    popmean = population.mean()  # Population mean\n",
    ")"
   ]
  },
  {
   "cell_type": "code",
   "execution_count": 4,
   "metadata": {},
   "outputs": [
    {
     "name": "stdout",
     "output_type": "stream",
     "text": [
      "-2.0095752344892093 2.009575234489209\n"
     ]
    }
   ],
   "source": [
    "from scipy.stats import t\n",
    "\n",
    "c1 = t.ppf(q=0.025, df=49)\n",
    "c2 = t.ppf(q=0.975, df=49)\n",
    "\n",
    "print(c1, c2)"
   ]
  },
  {
   "cell_type": "code",
   "execution_count": 5,
   "metadata": {},
   "outputs": [
    {
     "data": {
      "text/plain": [
       "0.013121066545690117"
      ]
     },
     "execution_count": 5,
     "metadata": {},
     "output_type": "execute_result"
    }
   ],
   "source": [
    "t.cdf(x=-2.5742, df=49) * 2"
   ]
  },
  {
   "cell_type": "code",
   "execution_count": 6,
   "metadata": {},
   "outputs": [
    {
     "data": {
      "text/plain": [
       "(36.369669080722176, 42.15033091927782)"
      ]
     },
     "execution_count": 6,
     "metadata": {},
     "output_type": "execute_result"
    }
   ],
   "source": [
    "sigma_estimate = sample_1.std() / math.sqrt(50)\n",
    "\n",
    "t.interval(\n",
    "    0.95,\n",
    "    df=49,\n",
    "    loc=sample_1.mean(),\n",
    "    scale=sigma_estimate\n",
    ")"
   ]
  },
  {
   "cell_type": "code",
   "execution_count": 7,
   "metadata": {},
   "outputs": [
    {
     "data": {
      "text/plain": [
       "(35.40547994092107, 43.11452005907893)"
      ]
     },
     "execution_count": 7,
     "metadata": {},
     "output_type": "execute_result"
    }
   ],
   "source": [
    "sigma_estimate = sample_1.std() / math.sqrt(50)\n",
    "\n",
    "t.interval(\n",
    "    0.99,\n",
    "    df=49,\n",
    "    loc=sample_1.mean(),\n",
    "    scale=sigma_estimate\n",
    ")"
   ]
  },
  {
   "cell_type": "code",
   "execution_count": 8,
   "metadata": {},
   "outputs": [
    {
     "name": "stdout",
     "output_type": "stream",
     "text": [
      "42.8\n"
     ]
    }
   ],
   "source": [
    "np.random.seed(12)\n",
    "\n",
    "sample_2 = np.concatenate((\n",
    "    poisson.rvs(loc=18, mu=33, size=30),\n",
    "    poisson.rvs(loc=18, mu=13, size=20)\n",
    "))\n",
    "\n",
    "print(sample_2.mean())"
   ]
  },
  {
   "cell_type": "code",
   "execution_count": 9,
   "metadata": {},
   "outputs": [
    {
     "data": {
      "text/plain": [
       "TtestResult(statistic=-1.7083870793286842, pvalue=0.09073104343957748, df=97.9724575497005)"
      ]
     },
     "execution_count": 9,
     "metadata": {},
     "output_type": "execute_result"
    }
   ],
   "source": [
    "from scipy.stats import ttest_ind        # <------- A/B Testing\n",
    "\n",
    "ttest_ind(\n",
    "    a=sample_1,\n",
    "    b=sample_2,\n",
    "    equal_var=False  # Assume sample have equal variance ?\n",
    ")\n"
   ]
  },
  {
   "cell_type": "code",
   "execution_count": 10,
   "metadata": {},
   "outputs": [
    {
     "data": {
      "text/plain": [
       "-1.2303750057960445"
      ]
     },
     "execution_count": 10,
     "metadata": {},
     "output_type": "execute_result"
    }
   ],
   "source": [
    "from scipy.stats import norm\n",
    "\n",
    "np.random.seed(11)\n",
    "\n",
    "before = norm.rvs(scale=30, loc=250, size=100)\n",
    "after = before + norm.rvs(scale=5, loc=-1.25, size=100)\n",
    "\n",
    "weight = {\n",
    "    \"weight_before\": before,\n",
    "    \"weight_after\": after,\n",
    "    \"weight_change\": after - before\n",
    "}\n",
    "\n",
    "weight['weight_change'].mean()"
   ]
  },
  {
   "cell_type": "code",
   "execution_count": 11,
   "metadata": {},
   "outputs": [
    {
     "data": {
      "text/plain": [
       "TtestResult(statistic=2.5720175998568284, pvalue=0.011596444318439859, df=99)"
      ]
     },
     "execution_count": 11,
     "metadata": {},
     "output_type": "execute_result"
    }
   ],
   "source": [
    "from scipy.stats import ttest_rel\n",
    "\n",
    "ttest_rel(\n",
    "    a=before,\n",
    "    b=after\n",
    ")"
   ]
  },
  {
   "cell_type": "code",
   "execution_count": 12,
   "metadata": {},
   "outputs": [
    {
     "data": {
      "image/png": "[encoded data removed]",
      "text/plain": [
       "<Figure size 800x600 with 1 Axes>"
      ]
     },
     "metadata": {},
     "output_type": "display_data"
    }
   ],
   "source": [
    "from scipy.stats import norm\n",
    "\n",
    "plt.figure(figsize=(8,6))\n",
    "\n",
    "plt.plot(np.arange(-4,10,0.01), norm.pdf(np.arange(-4,10,0.01),loc=3,scale=2))\n",
    "plt.plot(np.arange(-4,4,0.01), norm.pdf(np.arange(-4,4,0.01)))\n",
    "\n",
    "plt.fill_between(\n",
    "    x=np.arange(-4,-2,0.01),\n",
    "    y1=norm.pdf(np.arange(-4,-2,0.01)),\n",
    "    facecolor='red',\n",
    "    alpha=0.35\n",
    ")\n",
    "\n",
    "plt.fill_between(\n",
    "    x=np.arange(-2,2,0.01),\n",
    "    y1=norm.pdf(np.arange(-2,2,0.01)),\n",
    "    facecolor='white',\n",
    "    alpha=0.35\n",
    ")\n",
    "\n",
    "plt.fill_between(\n",
    "    x=np.arange(2,4,0.01),\n",
    "    y1=norm.pdf(np.arange(2,4,0.01)),\n",
    "    facecolor='red',\n",
    "    alpha=0.5\n",
    ")\n",
    "\n",
    "plt.fill_between(\n",
    "    x=np.arange(-4,-2,0.01),\n",
    "    y1=norm.pdf(np.arange(-4,-2,0.01),loc=3, scale=2),\n",
    "    facecolor='white',\n",
    "    alpha=0.35\n",
    ")\n",
    "\n",
    "plt.fill_between(\n",
    "    x=np.arange(-2,2,0.01),\n",
    "    y1=norm.pdf(np.arange(-2,2,0.01),loc=3, scale=2),\n",
    "    facecolor='blue',\n",
    "    alpha=0.35\n",
    ")\n",
    "\n",
    "plt.fill_between(\n",
    "    x=np.arange(2,10,0.01),\n",
    "    y1=norm.pdf(np.arange(2,10,0.01),loc=3, scale=2),\n",
    "    facecolor='white',\n",
    "    alpha=0.35\n",
    ")\n",
    "\n",
    "\n",
    "plt.show()"
   ]
  },
  {
   "cell_type": "code",
   "execution_count": 13,
   "metadata": {},
   "outputs": [
    {
     "name": "stdout",
     "output_type": "stream",
     "text": [
      "-1.9599639845400545 1.959963984540054\n"
     ]
    },
    {
     "data": {
      "text/plain": [
       "0.294956061112323"
      ]
     },
     "execution_count": 13,
     "metadata": {},
     "output_type": "execute_result"
    }
   ],
   "source": [
    "lower_quantile = norm.ppf(0.025)       # ----> x1\n",
    "upper_quantile = norm.ppf(0.975)       # ----> x2\n",
    "\n",
    "print(lower_quantile, upper_quantile)\n",
    "\n",
    "low = norm.cdf(lower_quantile, loc=3, scale=2)\n",
    "high = norm.cdf(upper_quantile, loc=3, scale=2)\n",
    "\n",
    "high - low"
   ]
  },
  {
   "cell_type": "code",
   "execution_count": null,
   "metadata": {},
   "outputs": [],
   "source": []
  }
 ],
 "metadata": {
  "kernelspec": {
   "display_name": "Python 3",
   "language": "python",
   "name": "python3"
  },
  "language_info": {
   "codemirror_mode": {
    "name": "ipython",
    "version": 3
   },
   "file_extension": ".py",
   "mimetype": "text/x-python",
   "name": "python",
   "nbconvert_exporter": "python",
   "pygments_lexer": "ipython3",
   "version": "3.11.4"
  }
 },
 "nbformat": 4,
 "nbformat_minor": 2
}
